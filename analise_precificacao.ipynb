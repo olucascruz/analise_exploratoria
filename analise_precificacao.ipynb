{
  "nbformat": 4,
  "nbformat_minor": 0,
  "metadata": {
    "colab": {
      "provenance": [],
      "mount_file_id": "196-ieN6RvXej7ssRGLcttyJ8tZl25OpQ",
      "authorship_tag": "ABX9TyOLFNk0gvB/1I8fsPFTMrdU",
      "include_colab_link": true
    },
    "kernelspec": {
      "name": "python3",
      "display_name": "Python 3"
    },
    "language_info": {
      "name": "python"
    }
  },
  "cells": [
    {
      "cell_type": "markdown",
      "metadata": {
        "id": "view-in-github",
        "colab_type": "text"
      },
      "source": [
        "<a href=\"https://colab.research.google.com/github/olucascruz/analise_exploratoria/blob/main/analise_precificacao.ipynb\" target=\"_parent\"><img src=\"https://colab.research.google.com/assets/colab-badge.svg\" alt=\"Open In Colab\"/></a>"
      ]
    },
    {
      "cell_type": "markdown",
      "source": [
        "## imports"
      ],
      "metadata": {
        "id": "Kh-sKf9yvt4t"
      }
    },
    {
      "cell_type": "code",
      "execution_count": null,
      "metadata": {
        "id": "MQB2aWHRNhNS"
      },
      "outputs": [],
      "source": [
        "import pandas as pd\n",
        "import numpy as np\n",
        "import matplotlib.pyplot as plt\n",
        "from sklearn.preprocessing import LabelEncoder"
      ]
    },
    {
      "cell_type": "markdown",
      "source": [
        "### Load data"
      ],
      "metadata": {
        "id": "8i67sOPLvyxA"
      }
    },
    {
      "cell_type": "code",
      "source": [
        "df = pd.read_csv(r\"/content/drive/MyDrive/database/teste_indicium_precificacao.csv\")\n",
        "df.head(3)"
      ],
      "metadata": {
        "colab": {
          "base_uri": "https://localhost:8080/",
          "height": 268
        },
        "id": "cZ0_9jfSQSv6",
        "outputId": "ac525272-c0c1-42f2-8cbe-547e34e59b0e"
      },
      "execution_count": null,
      "outputs": [
        {
          "output_type": "execute_result",
          "data": {
            "text/plain": [
              "     id                                 nome  host_id    host_name  \\\n",
              "0  2595                Skylit Midtown Castle     2845     Jennifer   \n",
              "1  3647  THE VILLAGE OF HARLEM....NEW YORK !     4632    Elisabeth   \n",
              "2  3831      Cozy Entire Floor of Brownstone     4869  LisaRoxanne   \n",
              "\n",
              "  bairro_group        bairro  latitude  longitude        room_type  price  \\\n",
              "0    Manhattan       Midtown  40.75362  -73.98377  Entire home/apt    225   \n",
              "1    Manhattan        Harlem  40.80902  -73.94190     Private room    150   \n",
              "2     Brooklyn  Clinton Hill  40.68514  -73.95976  Entire home/apt     89   \n",
              "\n",
              "   minimo_noites  numero_de_reviews ultima_review  reviews_por_mes  \\\n",
              "0              1                 45    2019-05-21             0.38   \n",
              "1              3                  0           NaN              NaN   \n",
              "2              1                270    2019-07-05             4.64   \n",
              "\n",
              "   calculado_host_listings_count  disponibilidade_365  \n",
              "0                              2                  355  \n",
              "1                              1                  365  \n",
              "2                              1                  194  "
            ],
            "text/html": [
              "\n",
              "  <div id=\"df-a18f82b4-cec6-4d41-994d-4b4ef1fb0b90\" class=\"colab-df-container\">\n",
              "    <div>\n",
              "<style scoped>\n",
              "    .dataframe tbody tr th:only-of-type {\n",
              "        vertical-align: middle;\n",
              "    }\n",
              "\n",
              "    .dataframe tbody tr th {\n",
              "        vertical-align: top;\n",
              "    }\n",
              "\n",
              "    .dataframe thead th {\n",
              "        text-align: right;\n",
              "    }\n",
              "</style>\n",
              "<table border=\"1\" class=\"dataframe\">\n",
              "  <thead>\n",
              "    <tr style=\"text-align: right;\">\n",
              "      <th></th>\n",
              "      <th>id</th>\n",
              "      <th>nome</th>\n",
              "      <th>host_id</th>\n",
              "      <th>host_name</th>\n",
              "      <th>bairro_group</th>\n",
              "      <th>bairro</th>\n",
              "      <th>latitude</th>\n",
              "      <th>longitude</th>\n",
              "      <th>room_type</th>\n",
              "      <th>price</th>\n",
              "      <th>minimo_noites</th>\n",
              "      <th>numero_de_reviews</th>\n",
              "      <th>ultima_review</th>\n",
              "      <th>reviews_por_mes</th>\n",
              "      <th>calculado_host_listings_count</th>\n",
              "      <th>disponibilidade_365</th>\n",
              "    </tr>\n",
              "  </thead>\n",
              "  <tbody>\n",
              "    <tr>\n",
              "      <th>0</th>\n",
              "      <td>2595</td>\n",
              "      <td>Skylit Midtown Castle</td>\n",
              "      <td>2845</td>\n",
              "      <td>Jennifer</td>\n",
              "      <td>Manhattan</td>\n",
              "      <td>Midtown</td>\n",
              "      <td>40.75362</td>\n",
              "      <td>-73.98377</td>\n",
              "      <td>Entire home/apt</td>\n",
              "      <td>225</td>\n",
              "      <td>1</td>\n",
              "      <td>45</td>\n",
              "      <td>2019-05-21</td>\n",
              "      <td>0.38</td>\n",
              "      <td>2</td>\n",
              "      <td>355</td>\n",
              "    </tr>\n",
              "    <tr>\n",
              "      <th>1</th>\n",
              "      <td>3647</td>\n",
              "      <td>THE VILLAGE OF HARLEM....NEW YORK !</td>\n",
              "      <td>4632</td>\n",
              "      <td>Elisabeth</td>\n",
              "      <td>Manhattan</td>\n",
              "      <td>Harlem</td>\n",
              "      <td>40.80902</td>\n",
              "      <td>-73.94190</td>\n",
              "      <td>Private room</td>\n",
              "      <td>150</td>\n",
              "      <td>3</td>\n",
              "      <td>0</td>\n",
              "      <td>NaN</td>\n",
              "      <td>NaN</td>\n",
              "      <td>1</td>\n",
              "      <td>365</td>\n",
              "    </tr>\n",
              "    <tr>\n",
              "      <th>2</th>\n",
              "      <td>3831</td>\n",
              "      <td>Cozy Entire Floor of Brownstone</td>\n",
              "      <td>4869</td>\n",
              "      <td>LisaRoxanne</td>\n",
              "      <td>Brooklyn</td>\n",
              "      <td>Clinton Hill</td>\n",
              "      <td>40.68514</td>\n",
              "      <td>-73.95976</td>\n",
              "      <td>Entire home/apt</td>\n",
              "      <td>89</td>\n",
              "      <td>1</td>\n",
              "      <td>270</td>\n",
              "      <td>2019-07-05</td>\n",
              "      <td>4.64</td>\n",
              "      <td>1</td>\n",
              "      <td>194</td>\n",
              "    </tr>\n",
              "  </tbody>\n",
              "</table>\n",
              "</div>\n",
              "    <div class=\"colab-df-buttons\">\n",
              "\n",
              "  <div class=\"colab-df-container\">\n",
              "    <button class=\"colab-df-convert\" onclick=\"convertToInteractive('df-a18f82b4-cec6-4d41-994d-4b4ef1fb0b90')\"\n",
              "            title=\"Convert this dataframe to an interactive table.\"\n",
              "            style=\"display:none;\">\n",
              "\n",
              "  <svg xmlns=\"http://www.w3.org/2000/svg\" height=\"24px\" viewBox=\"0 -960 960 960\">\n",
              "    <path d=\"M120-120v-720h720v720H120Zm60-500h600v-160H180v160Zm220 220h160v-160H400v160Zm0 220h160v-160H400v160ZM180-400h160v-160H180v160Zm440 0h160v-160H620v160ZM180-180h160v-160H180v160Zm440 0h160v-160H620v160Z\"/>\n",
              "  </svg>\n",
              "    </button>\n",
              "\n",
              "  <style>\n",
              "    .colab-df-container {\n",
              "      display:flex;\n",
              "      gap: 12px;\n",
              "    }\n",
              "\n",
              "    .colab-df-convert {\n",
              "      background-color: #E8F0FE;\n",
              "      border: none;\n",
              "      border-radius: 50%;\n",
              "      cursor: pointer;\n",
              "      display: none;\n",
              "      fill: #1967D2;\n",
              "      height: 32px;\n",
              "      padding: 0 0 0 0;\n",
              "      width: 32px;\n",
              "    }\n",
              "\n",
              "    .colab-df-convert:hover {\n",
              "      background-color: #E2EBFA;\n",
              "      box-shadow: 0px 1px 2px rgba(60, 64, 67, 0.3), 0px 1px 3px 1px rgba(60, 64, 67, 0.15);\n",
              "      fill: #174EA6;\n",
              "    }\n",
              "\n",
              "    .colab-df-buttons div {\n",
              "      margin-bottom: 4px;\n",
              "    }\n",
              "\n",
              "    [theme=dark] .colab-df-convert {\n",
              "      background-color: #3B4455;\n",
              "      fill: #D2E3FC;\n",
              "    }\n",
              "\n",
              "    [theme=dark] .colab-df-convert:hover {\n",
              "      background-color: #434B5C;\n",
              "      box-shadow: 0px 1px 3px 1px rgba(0, 0, 0, 0.15);\n",
              "      filter: drop-shadow(0px 1px 2px rgba(0, 0, 0, 0.3));\n",
              "      fill: #FFFFFF;\n",
              "    }\n",
              "  </style>\n",
              "\n",
              "    <script>\n",
              "      const buttonEl =\n",
              "        document.querySelector('#df-a18f82b4-cec6-4d41-994d-4b4ef1fb0b90 button.colab-df-convert');\n",
              "      buttonEl.style.display =\n",
              "        google.colab.kernel.accessAllowed ? 'block' : 'none';\n",
              "\n",
              "      async function convertToInteractive(key) {\n",
              "        const element = document.querySelector('#df-a18f82b4-cec6-4d41-994d-4b4ef1fb0b90');\n",
              "        const dataTable =\n",
              "          await google.colab.kernel.invokeFunction('convertToInteractive',\n",
              "                                                    [key], {});\n",
              "        if (!dataTable) return;\n",
              "\n",
              "        const docLinkHtml = 'Like what you see? Visit the ' +\n",
              "          '<a target=\"_blank\" href=https://colab.research.google.com/notebooks/data_table.ipynb>data table notebook</a>'\n",
              "          + ' to learn more about interactive tables.';\n",
              "        element.innerHTML = '';\n",
              "        dataTable['output_type'] = 'display_data';\n",
              "        await google.colab.output.renderOutput(dataTable, element);\n",
              "        const docLink = document.createElement('div');\n",
              "        docLink.innerHTML = docLinkHtml;\n",
              "        element.appendChild(docLink);\n",
              "      }\n",
              "    </script>\n",
              "  </div>\n",
              "\n",
              "\n",
              "<div id=\"df-10743d7c-90ff-4c36-bbc9-f8a63152713f\">\n",
              "  <button class=\"colab-df-quickchart\" onclick=\"quickchart('df-10743d7c-90ff-4c36-bbc9-f8a63152713f')\"\n",
              "            title=\"Suggest charts\"\n",
              "            style=\"display:none;\">\n",
              "\n",
              "<svg xmlns=\"http://www.w3.org/2000/svg\" height=\"24px\"viewBox=\"0 0 24 24\"\n",
              "     width=\"24px\">\n",
              "    <g>\n",
              "        <path d=\"M19 3H5c-1.1 0-2 .9-2 2v14c0 1.1.9 2 2 2h14c1.1 0 2-.9 2-2V5c0-1.1-.9-2-2-2zM9 17H7v-7h2v7zm4 0h-2V7h2v10zm4 0h-2v-4h2v4z\"/>\n",
              "    </g>\n",
              "</svg>\n",
              "  </button>\n",
              "\n",
              "<style>\n",
              "  .colab-df-quickchart {\n",
              "      --bg-color: #E8F0FE;\n",
              "      --fill-color: #1967D2;\n",
              "      --hover-bg-color: #E2EBFA;\n",
              "      --hover-fill-color: #174EA6;\n",
              "      --disabled-fill-color: #AAA;\n",
              "      --disabled-bg-color: #DDD;\n",
              "  }\n",
              "\n",
              "  [theme=dark] .colab-df-quickchart {\n",
              "      --bg-color: #3B4455;\n",
              "      --fill-color: #D2E3FC;\n",
              "      --hover-bg-color: #434B5C;\n",
              "      --hover-fill-color: #FFFFFF;\n",
              "      --disabled-bg-color: #3B4455;\n",
              "      --disabled-fill-color: #666;\n",
              "  }\n",
              "\n",
              "  .colab-df-quickchart {\n",
              "    background-color: var(--bg-color);\n",
              "    border: none;\n",
              "    border-radius: 50%;\n",
              "    cursor: pointer;\n",
              "    display: none;\n",
              "    fill: var(--fill-color);\n",
              "    height: 32px;\n",
              "    padding: 0;\n",
              "    width: 32px;\n",
              "  }\n",
              "\n",
              "  .colab-df-quickchart:hover {\n",
              "    background-color: var(--hover-bg-color);\n",
              "    box-shadow: 0 1px 2px rgba(60, 64, 67, 0.3), 0 1px 3px 1px rgba(60, 64, 67, 0.15);\n",
              "    fill: var(--button-hover-fill-color);\n",
              "  }\n",
              "\n",
              "  .colab-df-quickchart-complete:disabled,\n",
              "  .colab-df-quickchart-complete:disabled:hover {\n",
              "    background-color: var(--disabled-bg-color);\n",
              "    fill: var(--disabled-fill-color);\n",
              "    box-shadow: none;\n",
              "  }\n",
              "\n",
              "  .colab-df-spinner {\n",
              "    border: 2px solid var(--fill-color);\n",
              "    border-color: transparent;\n",
              "    border-bottom-color: var(--fill-color);\n",
              "    animation:\n",
              "      spin 1s steps(1) infinite;\n",
              "  }\n",
              "\n",
              "  @keyframes spin {\n",
              "    0% {\n",
              "      border-color: transparent;\n",
              "      border-bottom-color: var(--fill-color);\n",
              "      border-left-color: var(--fill-color);\n",
              "    }\n",
              "    20% {\n",
              "      border-color: transparent;\n",
              "      border-left-color: var(--fill-color);\n",
              "      border-top-color: var(--fill-color);\n",
              "    }\n",
              "    30% {\n",
              "      border-color: transparent;\n",
              "      border-left-color: var(--fill-color);\n",
              "      border-top-color: var(--fill-color);\n",
              "      border-right-color: var(--fill-color);\n",
              "    }\n",
              "    40% {\n",
              "      border-color: transparent;\n",
              "      border-right-color: var(--fill-color);\n",
              "      border-top-color: var(--fill-color);\n",
              "    }\n",
              "    60% {\n",
              "      border-color: transparent;\n",
              "      border-right-color: var(--fill-color);\n",
              "    }\n",
              "    80% {\n",
              "      border-color: transparent;\n",
              "      border-right-color: var(--fill-color);\n",
              "      border-bottom-color: var(--fill-color);\n",
              "    }\n",
              "    90% {\n",
              "      border-color: transparent;\n",
              "      border-bottom-color: var(--fill-color);\n",
              "    }\n",
              "  }\n",
              "</style>\n",
              "\n",
              "  <script>\n",
              "    async function quickchart(key) {\n",
              "      const quickchartButtonEl =\n",
              "        document.querySelector('#' + key + ' button');\n",
              "      quickchartButtonEl.disabled = true;  // To prevent multiple clicks.\n",
              "      quickchartButtonEl.classList.add('colab-df-spinner');\n",
              "      try {\n",
              "        const charts = await google.colab.kernel.invokeFunction(\n",
              "            'suggestCharts', [key], {});\n",
              "      } catch (error) {\n",
              "        console.error('Error during call to suggestCharts:', error);\n",
              "      }\n",
              "      quickchartButtonEl.classList.remove('colab-df-spinner');\n",
              "      quickchartButtonEl.classList.add('colab-df-quickchart-complete');\n",
              "    }\n",
              "    (() => {\n",
              "      let quickchartButtonEl =\n",
              "        document.querySelector('#df-10743d7c-90ff-4c36-bbc9-f8a63152713f button');\n",
              "      quickchartButtonEl.style.display =\n",
              "        google.colab.kernel.accessAllowed ? 'block' : 'none';\n",
              "    })();\n",
              "  </script>\n",
              "</div>\n",
              "\n",
              "    </div>\n",
              "  </div>\n"
            ],
            "application/vnd.google.colaboratory.intrinsic+json": {
              "type": "dataframe",
              "variable_name": "df",
              "summary": "{\n  \"name\": \"df\",\n  \"rows\": 48894,\n  \"fields\": [\n    {\n      \"column\": \"id\",\n      \"properties\": {\n        \"dtype\": \"number\",\n        \"std\": 10982884,\n        \"min\": 2595,\n        \"max\": 36487245,\n        \"samples\": [\n          318021,\n          35729594,\n          12342441\n        ],\n        \"num_unique_values\": 48894,\n        \"semantic_type\": \"\",\n        \"description\": \"\"\n      }\n    },\n    {\n      \"column\": \"nome\",\n      \"properties\": {\n        \"dtype\": \"string\",\n        \"samples\": [\n          \"Luxurious Penthouse 3bed/2bath Apt w/Gym, Doorman\",\n          \"Bright Room in Williamsburg\",\n          \"Manhattan apt in the best part of NYC\"\n        ],\n        \"num_unique_values\": 47904,\n        \"semantic_type\": \"\",\n        \"description\": \"\"\n      }\n    },\n    {\n      \"column\": \"host_id\",\n      \"properties\": {\n        \"dtype\": \"number\",\n        \"std\": 78611176,\n        \"min\": 2438,\n        \"max\": 274321313,\n        \"samples\": [\n          15355526,\n          5592151,\n          208938947\n        ],\n        \"num_unique_values\": 37457,\n        \"semantic_type\": \"\",\n        \"description\": \"\"\n      }\n    },\n    {\n      \"column\": \"host_name\",\n      \"properties\": {\n        \"dtype\": \"category\",\n        \"samples\": [\n          \"Eki\",\n          \"Laine\",\n          \"Elen\"\n        ],\n        \"num_unique_values\": 11452,\n        \"semantic_type\": \"\",\n        \"description\": \"\"\n      }\n    },\n    {\n      \"column\": \"bairro_group\",\n      \"properties\": {\n        \"dtype\": \"category\",\n        \"samples\": [\n          \"Brooklyn\",\n          \"Bronx\",\n          \"Queens\"\n        ],\n        \"num_unique_values\": 5,\n        \"semantic_type\": \"\",\n        \"description\": \"\"\n      }\n    },\n    {\n      \"column\": \"bairro\",\n      \"properties\": {\n        \"dtype\": \"category\",\n        \"samples\": [\n          \"Stuyvesant Town\",\n          \"Eltingville\",\n          \"Stapleton\"\n        ],\n        \"num_unique_values\": 221,\n        \"semantic_type\": \"\",\n        \"description\": \"\"\n      }\n    },\n    {\n      \"column\": \"latitude\",\n      \"properties\": {\n        \"dtype\": \"number\",\n        \"std\": 0.05452939126301221,\n        \"min\": 40.49979,\n        \"max\": 40.91306,\n        \"samples\": [\n          40.58633,\n          40.75961,\n          40.82243\n        ],\n        \"num_unique_values\": 19048,\n        \"semantic_type\": \"\",\n        \"description\": \"\"\n      }\n    },\n    {\n      \"column\": \"longitude\",\n      \"properties\": {\n        \"dtype\": \"number\",\n        \"std\": 0.04615711771264084,\n        \"min\": -74.24442,\n        \"max\": -73.71299,\n        \"samples\": [\n          -73.88892,\n          -73.87851,\n          -73.97175\n        ],\n        \"num_unique_values\": 14718,\n        \"semantic_type\": \"\",\n        \"description\": \"\"\n      }\n    },\n    {\n      \"column\": \"room_type\",\n      \"properties\": {\n        \"dtype\": \"category\",\n        \"samples\": [\n          \"Entire home/apt\",\n          \"Private room\",\n          \"Shared room\"\n        ],\n        \"num_unique_values\": 3,\n        \"semantic_type\": \"\",\n        \"description\": \"\"\n      }\n    },\n    {\n      \"column\": \"price\",\n      \"properties\": {\n        \"dtype\": \"number\",\n        \"std\": 240,\n        \"min\": 0,\n        \"max\": 10000,\n        \"samples\": [\n          519,\n          675,\n          488\n        ],\n        \"num_unique_values\": 674,\n        \"semantic_type\": \"\",\n        \"description\": \"\"\n      }\n    },\n    {\n      \"column\": \"minimo_noites\",\n      \"properties\": {\n        \"dtype\": \"number\",\n        \"std\": 20,\n        \"min\": 1,\n        \"max\": 1250,\n        \"samples\": [\n          160,\n          60,\n          2\n        ],\n        \"num_unique_values\": 109,\n        \"semantic_type\": \"\",\n        \"description\": \"\"\n      }\n    },\n    {\n      \"column\": \"numero_de_reviews\",\n      \"properties\": {\n        \"dtype\": \"number\",\n        \"std\": 44,\n        \"min\": 0,\n        \"max\": 629,\n        \"samples\": [\n          12,\n          144,\n          314\n        ],\n        \"num_unique_values\": 394,\n        \"semantic_type\": \"\",\n        \"description\": \"\"\n      }\n    },\n    {\n      \"column\": \"ultima_review\",\n      \"properties\": {\n        \"dtype\": \"object\",\n        \"min\": \"2011-03-28 00:00:00\",\n        \"max\": \"2019-07-08 00:00:00\",\n        \"samples\": [\n          \"2018-05-17\",\n          \"2017-06-18\",\n          \"2019-02-27\"\n        ],\n        \"num_unique_values\": 1764,\n        \"semantic_type\": \"\",\n        \"description\": \"\"\n      }\n    },\n    {\n      \"column\": \"reviews_por_mes\",\n      \"properties\": {\n        \"dtype\": \"number\",\n        \"std\": 1.6804532620154509,\n        \"min\": 0.01,\n        \"max\": 58.5,\n        \"samples\": [\n          1.7,\n          3.4,\n          2.14\n        ],\n        \"num_unique_values\": 937,\n        \"semantic_type\": \"\",\n        \"description\": \"\"\n      }\n    },\n    {\n      \"column\": \"calculado_host_listings_count\",\n      \"properties\": {\n        \"dtype\": \"number\",\n        \"std\": 32,\n        \"min\": 1,\n        \"max\": 327,\n        \"samples\": [\n          37,\n          17,\n          121\n        ],\n        \"num_unique_values\": 47,\n        \"semantic_type\": \"\",\n        \"description\": \"\"\n      }\n    },\n    {\n      \"column\": \"disponibilidade_365\",\n      \"properties\": {\n        \"dtype\": \"number\",\n        \"std\": 131,\n        \"min\": 0,\n        \"max\": 365,\n        \"samples\": [\n          335,\n          309,\n          249\n        ],\n        \"num_unique_values\": 366,\n        \"semantic_type\": \"\",\n        \"description\": \"\"\n      }\n    }\n  ]\n}"
            }
          },
          "metadata": {},
          "execution_count": 2
        }
      ]
    },
    {
      "cell_type": "markdown",
      "source": [
        "Verificar se dados precisam de limpeza\n",
        "\n",
        "Verificar outlines\n",
        "\n",
        "Verificar correlações entre variaveis"
      ],
      "metadata": {
        "id": "-5LfdF27Qu3I"
      }
    },
    {
      "cell_type": "code",
      "source": [
        "df.info()"
      ],
      "metadata": {
        "colab": {
          "base_uri": "https://localhost:8080/"
        },
        "id": "xsufXru7Qkde",
        "outputId": "ed257a57-8de8-4adc-f13b-8322fa7e559d"
      },
      "execution_count": null,
      "outputs": [
        {
          "output_type": "stream",
          "name": "stdout",
          "text": [
            "<class 'pandas.core.frame.DataFrame'>\n",
            "RangeIndex: 48894 entries, 0 to 48893\n",
            "Data columns (total 16 columns):\n",
            " #   Column                         Non-Null Count  Dtype  \n",
            "---  ------                         --------------  -----  \n",
            " 0   id                             48894 non-null  int64  \n",
            " 1   nome                           48878 non-null  object \n",
            " 2   host_id                        48894 non-null  int64  \n",
            " 3   host_name                      48873 non-null  object \n",
            " 4   bairro_group                   48894 non-null  object \n",
            " 5   bairro                         48894 non-null  object \n",
            " 6   latitude                       48894 non-null  float64\n",
            " 7   longitude                      48894 non-null  float64\n",
            " 8   room_type                      48894 non-null  object \n",
            " 9   price                          48894 non-null  int64  \n",
            " 10  minimo_noites                  48894 non-null  int64  \n",
            " 11  numero_de_reviews              48894 non-null  int64  \n",
            " 12  ultima_review                  38842 non-null  object \n",
            " 13  reviews_por_mes                38842 non-null  float64\n",
            " 14  calculado_host_listings_count  48894 non-null  int64  \n",
            " 15  disponibilidade_365            48894 non-null  int64  \n",
            "dtypes: float64(3), int64(7), object(6)\n",
            "memory usage: 6.0+ MB\n"
          ]
        }
      ]
    },
    {
      "cell_type": "code",
      "source": [
        "print(\"número de colunas:\",len(df.columns))"
      ],
      "metadata": {
        "colab": {
          "base_uri": "https://localhost:8080/"
        },
        "id": "hCntR3c70dl9",
        "outputId": "bfd08cc5-1d2d-4bb4-f3e3-66d2b3c98bc1"
      },
      "execution_count": null,
      "outputs": [
        {
          "output_type": "stream",
          "name": "stdout",
          "text": [
            "número de colunas: 16\n"
          ]
        }
      ]
    },
    {
      "cell_type": "code",
      "source": [
        "print(df.isnull().sum())"
      ],
      "metadata": {
        "colab": {
          "base_uri": "https://localhost:8080/"
        },
        "id": "2Ud-sH2lXh7i",
        "outputId": "7a59b9d4-eabc-4a18-b4d4-a759a76ca1ff"
      },
      "execution_count": null,
      "outputs": [
        {
          "output_type": "stream",
          "name": "stdout",
          "text": [
            "id                                   0\n",
            "nome                                16\n",
            "host_id                              0\n",
            "host_name                           21\n",
            "bairro_group                         0\n",
            "bairro                               0\n",
            "latitude                             0\n",
            "longitude                            0\n",
            "room_type                            0\n",
            "price                                0\n",
            "minimo_noites                        0\n",
            "numero_de_reviews                    0\n",
            "ultima_review                    10052\n",
            "reviews_por_mes                  10052\n",
            "calculado_host_listings_count        0\n",
            "disponibilidade_365                  0\n",
            "dtype: int64\n"
          ]
        }
      ]
    },
    {
      "cell_type": "code",
      "source": [
        "mean_price = df.price.mean()\n",
        "max_price = df.price.max()\n",
        "min_price = df.price.min()\n",
        "print(\n",
        "    f\"Mean price: {mean_price} \\n Max price: {max_price} \\n Min price: {min_price}\"\n",
        ")"
      ],
      "metadata": {
        "colab": {
          "base_uri": "https://localhost:8080/"
        },
        "id": "a8mv1RZ2X4El",
        "outputId": "a6157c6c-17d6-4007-8518-29748f5c61bb"
      },
      "execution_count": null,
      "outputs": [
        {
          "output_type": "stream",
          "name": "stdout",
          "text": [
            "Mean price: 152.7207632838385 \n",
            " Max price: 10000 \n",
            " Min price: 0\n"
          ]
        }
      ]
    },
    {
      "cell_type": "markdown",
      "source": [
        "Descoberta: Existem alugeuis com o preço 0, como isso é irreal, vou considerar esses valores como errados"
      ],
      "metadata": {
        "id": "AMhPLYOiZ6HP"
      }
    },
    {
      "cell_type": "code",
      "source": [
        "# Verificando se o número de preços 0 é relevante\n",
        "zero_count = df.price.value_counts().get(0, 0)\n",
        "print(\"prices 0:\",zero_count)"
      ],
      "metadata": {
        "colab": {
          "base_uri": "https://localhost:8080/"
        },
        "id": "34OwhVv7ciJl",
        "outputId": "c29c132a-c3d5-4499-f290-02a44af99a76"
      },
      "execution_count": null,
      "outputs": [
        {
          "output_type": "stream",
          "name": "stdout",
          "text": [
            "prices 0: 11\n"
          ]
        }
      ]
    },
    {
      "cell_type": "markdown",
      "source": [
        "Como existem poucos exemplos com preço zero, estes podem ser removidos."
      ],
      "metadata": {
        "id": "2arnSgo0c8z_"
      }
    },
    {
      "cell_type": "code",
      "source": [
        "unique_prices_sorted = np.sort(df.price.unique())"
      ],
      "metadata": {
        "id": "FlXuVuHbdZ9_"
      },
      "execution_count": null,
      "outputs": []
    },
    {
      "cell_type": "code",
      "source": [
        "smaless_prices = np.sort(df.price.unique())[:100]\n",
        "print(smaless_prices)"
      ],
      "metadata": {
        "colab": {
          "base_uri": "https://localhost:8080/"
        },
        "id": "iL2ZQhSvXuWG",
        "outputId": "7e4f709a-7cf8-4f3a-e1ec-d00b7157c237"
      },
      "execution_count": null,
      "outputs": [
        {
          "output_type": "stream",
          "name": "stdout",
          "text": [
            "[  0  10  11  12  13  15  16  18  19  20  21  22  23  24  25  26  27  28\n",
            "  29  30  31  32  33  34  35  36  37  38  39  40  41  42  43  44  45  46\n",
            "  47  48  49  50  51  52  53  54  55  56  57  58  59  60  61  62  63  64\n",
            "  65  66  67  68  69  70  71  72  73  74  75  76  77  78  79  80  81  82\n",
            "  83  84  85  86  87  88  89  90  91  92  93  94  95  96  97  98  99 100\n",
            " 101 102 103 104 105 106 107 108 109 110]\n"
          ]
        }
      ]
    },
    {
      "cell_type": "code",
      "source": [
        "bigger_prices = np.sort(df.price.unique())[-100:]\n",
        "print(bigger_prices)"
      ],
      "metadata": {
        "colab": {
          "base_uri": "https://localhost:8080/"
        },
        "id": "KZno2Mp2de4d",
        "outputId": "472e9038-0db6-4b67-9254-9c686cd8eb4d"
      },
      "execution_count": null,
      "outputs": [
        {
          "output_type": "stream",
          "name": "stdout",
          "text": [
            "[ 1066  1067  1075  1080  1095  1099  1100  1115  1145  1150  1170  1177\n",
            "  1195  1200  1250  1295  1299  1300  1306  1308  1315  1333  1350  1369\n",
            "  1395  1400  1450  1475  1485  1494  1495  1497  1500  1550  1599  1600\n",
            "  1680  1700  1731  1749  1750  1763  1795  1799  1800  1880  1899  1900\n",
            "  1978  1999  2000  2010  2100  2103  2200  2250  2300  2350  2400  2500\n",
            "  2545  2590  2600  2626  2695  2750  2800  2850  2900  2990  2995  2999\n",
            "  3000  3200  3210  3512  3518  3600  3613  3750  3800  3900  4000  4100\n",
            "  4160  4200  4500  5000  5100  5250  6000  6419  6500  6800  7500  7703\n",
            "  8000  8500  9999 10000]\n"
          ]
        }
      ]
    },
    {
      "cell_type": "code",
      "source": [
        "# Plotando boxplot para verificar a distribuição dos dados\n",
        "\n",
        "plt.boxplot(df.price)\n",
        "# Adicionar rótulo ao eixo x\n",
        "plt.xlabel('Prices')\n",
        "# Exibir o gráfico\n",
        "plt.show()"
      ],
      "metadata": {
        "colab": {
          "base_uri": "https://localhost:8080/",
          "height": 449
        },
        "id": "fBRDQRMDd-Ej",
        "outputId": "5230a285-ca9a-4ed3-f6d5-45a8aafda277"
      },
      "execution_count": null,
      "outputs": [
        {
          "output_type": "display_data",
          "data": {
            "text/plain": [
              "<Figure size 640x480 with 1 Axes>"
            ],
            "image/png": "[encoded data removed]"
          },
          "metadata": {}
        }
      ]
    },
    {
      "cell_type": "code",
      "source": [
        "prices_higher_or_equal_4000 = len(df.query(\"price >= 4000\"))\n",
        "print(\"prices higher or equal than 4000:\", prices_higher_or_equal_4000)"
      ],
      "metadata": {
        "colab": {
          "base_uri": "https://localhost:8080/"
        },
        "id": "HBRRV-FLfN3c",
        "outputId": "998c2cdb-4802-487f-9bfb-9a8955b9a99c"
      },
      "execution_count": null,
      "outputs": [
        {
          "output_type": "stream",
          "name": "stdout",
          "text": [
            "prices higher or equal than 4000: 35\n"
          ]
        }
      ]
    },
    {
      "cell_type": "markdown",
      "source": [
        "Como os valores acima de 4000 são irrelenvantes considerando o tamanho do dataset posso cosiderar remove-los"
      ],
      "metadata": {
        "id": "62Wiz3BLf6Tb"
      }
    },
    {
      "cell_type": "code",
      "source": [
        "print(\"valores <= 2000:\",len(df.query(\"price <= 2000\")))"
      ],
      "metadata": {
        "colab": {
          "base_uri": "https://localhost:8080/"
        },
        "id": "iVrm3uBdhFbZ",
        "outputId": "a76bd039-efd2-47f3-be7c-0c439a94af61"
      },
      "execution_count": null,
      "outputs": [
        {
          "output_type": "stream",
          "name": "stdout",
          "text": [
            "valores <= 2000: 48808\n"
          ]
        }
      ]
    },
    {
      "cell_type": "code",
      "source": [
        "print(\"valores > 1000:\",len(df.query(\"price > 1000\")))"
      ],
      "metadata": {
        "colab": {
          "base_uri": "https://localhost:8080/"
        },
        "id": "vnUed-XhhOIM",
        "outputId": "a57a760e-8864-4fc8-c349-3b4260096d5f"
      },
      "execution_count": null,
      "outputs": [
        {
          "output_type": "stream",
          "name": "stdout",
          "text": [
            "valores > 1000: 239\n"
          ]
        }
      ]
    },
    {
      "cell_type": "markdown",
      "source": [
        "Descoberta: A maioria dos alugueis estão abaixo de 1000"
      ],
      "metadata": {
        "id": "gNnyWY4YesRZ"
      }
    },
    {
      "cell_type": "markdown",
      "source": [
        "## Analisando correlações"
      ],
      "metadata": {
        "id": "0BAedGsqmkYI"
      }
    },
    {
      "cell_type": "code",
      "source": [
        "bairro_in_df = df['bairro_group'].unique()\n",
        "print(\"Bairros no dataframe:\",bairro_in_df)"
      ],
      "metadata": {
        "colab": {
          "base_uri": "https://localhost:8080/"
        },
        "id": "VnPtE1d_nRNi",
        "outputId": "f6ed45b3-bc5f-4669-be61-029ba34a1677"
      },
      "execution_count": null,
      "outputs": [
        {
          "output_type": "stream",
          "name": "stdout",
          "text": [
            "Bairros no dataframe: ['Manhattan' 'Brooklyn' 'Queens' 'Staten Island' 'Bronx']\n"
          ]
        }
      ]
    },
    {
      "cell_type": "markdown",
      "source": [
        "Como o bairro é um dado categorico importante deve ser convertido para númerico."
      ],
      "metadata": {
        "id": "dMhpW3ebocRY"
      }
    },
    {
      "cell_type": "code",
      "source": [
        "label_encoder_bairro_group = LabelEncoder()\n",
        "# Aplicar a codificação de rótulos à coluna categórica\n",
        "df['bairro_group'] = label_encoder_bairro_group.fit_transform(df['bairro_group'])"
      ],
      "metadata": {
        "id": "7EZliPl8ouyW"
      },
      "execution_count": null,
      "outputs": []
    },
    {
      "cell_type": "code",
      "source": [
        "bairro_group_array = df['bairro_group'].unique()\n",
        "bairro_group_array"
      ],
      "metadata": {
        "colab": {
          "base_uri": "https://localhost:8080/"
        },
        "id": "NnvIxb53pCOV",
        "outputId": "380cee76-75f6-4d1d-c20f-45f934a78cb9"
      },
      "execution_count": null,
      "outputs": [
        {
          "output_type": "execute_result",
          "data": {
            "text/plain": [
              "array([2, 1, 3, 4, 0])"
            ]
          },
          "metadata": {},
          "execution_count": 17
        }
      ]
    },
    {
      "cell_type": "code",
      "source": [
        "room_type_in_df = df['room_type'].unique()\n",
        "room_type_in_df"
      ],
      "metadata": {
        "colab": {
          "base_uri": "https://localhost:8080/"
        },
        "id": "2Y8ST7xuwsI3",
        "outputId": "53e3f94e-3b5f-484c-8de6-c24fe5ecf51b"
      },
      "execution_count": null,
      "outputs": [
        {
          "output_type": "execute_result",
          "data": {
            "text/plain": [
              "array(['Entire home/apt', 'Private room', 'Shared room'], dtype=object)"
            ]
          },
          "metadata": {},
          "execution_count": 18
        }
      ]
    },
    {
      "cell_type": "code",
      "source": [
        "label_encoder_room_type = LabelEncoder()"
      ],
      "metadata": {
        "id": "FRe7MeVw0h3y"
      },
      "execution_count": null,
      "outputs": []
    },
    {
      "cell_type": "code",
      "source": [
        "df['room_type'] = label_encoder_room_type.fit_transform(df['room_type'])"
      ],
      "metadata": {
        "id": "_blzO2EQxNm-"
      },
      "execution_count": null,
      "outputs": []
    },
    {
      "cell_type": "code",
      "source": [
        "room_type_in_df = df['room_type'].unique()\n",
        "room_type_in_df"
      ],
      "metadata": {
        "colab": {
          "base_uri": "https://localhost:8080/"
        },
        "id": "3bgC_4Np2Afn",
        "outputId": "83706840-4909-4030-fbe3-9fb175722b36"
      },
      "execution_count": null,
      "outputs": [
        {
          "output_type": "execute_result",
          "data": {
            "text/plain": [
              "array([0, 1, 2])"
            ]
          },
          "metadata": {},
          "execution_count": 21
        }
      ]
    },
    {
      "cell_type": "code",
      "source": [
        "bairro_array = df['bairro'].unique()\n",
        "print(\"Bairros no dataframe:\", len(bairro_array))"
      ],
      "metadata": {
        "colab": {
          "base_uri": "https://localhost:8080/"
        },
        "id": "xCxCt6l0-fwf",
        "outputId": "dea1f3d7-2842-4256-dd32-bfbe707ad569"
      },
      "execution_count": null,
      "outputs": [
        {
          "output_type": "stream",
          "name": "stdout",
          "text": [
            "Bairros no dataframe: 221\n"
          ]
        }
      ]
    },
    {
      "cell_type": "code",
      "source": [
        "label_encoder_bairro = LabelEncoder()"
      ],
      "metadata": {
        "id": "3ypOyUrXChnQ"
      },
      "execution_count": null,
      "outputs": []
    },
    {
      "cell_type": "code",
      "source": [
        "df['bairro'] = label_encoder_bairro.fit_transform(df['bairro'])"
      ],
      "metadata": {
        "id": "M1MUcmv6CbsC"
      },
      "execution_count": null,
      "outputs": []
    },
    {
      "cell_type": "code",
      "source": [
        "df.corr(\"pearson\")"
      ],
      "metadata": {
        "colab": {
          "base_uri": "https://localhost:8080/",
          "height": 512
        },
        "id": "SYr130UDmoBq",
        "outputId": "9c02d5ca-ce9f-403a-bd31-9badfe486ace"
      },
      "execution_count": null,
      "outputs": [
        {
          "output_type": "stream",
          "name": "stderr",
          "text": [
            "<ipython-input-25-0fcaa2dbcc47>:1: FutureWarning: The default value of numeric_only in DataFrame.corr is deprecated. In a future version, it will default to False. Select only valid columns or specify the value of numeric_only to silence this warning.\n",
            "  df.corr(\"pearson\")\n"
          ]
        },
        {
          "output_type": "execute_result",
          "data": {
            "text/plain": [
              "                                     id   host_id  bairro_group    bairro  \\\n",
              "id                             1.000000  0.588282      0.062253 -0.033209   \n",
              "host_id                        0.588282  1.000000      0.113517 -0.028343   \n",
              "bairro_group                   0.062253  0.113517      1.000000  0.111335   \n",
              "bairro                        -0.033209 -0.028343      0.111335  1.000000   \n",
              "latitude                      -0.003178  0.020199      0.279541  0.234799   \n",
              "longitude                      0.090896  0.127049      0.101164 -0.102381   \n",
              "room_type                      0.066055  0.090468     -0.016321 -0.071965   \n",
              "price                          0.010618  0.015309      0.044246  0.062057   \n",
              "minimo_noites                 -0.013235 -0.017370      0.017399  0.026000   \n",
              "numero_de_reviews             -0.319782 -0.140113      0.003847 -0.038342   \n",
              "reviews_por_mes                0.291810  0.296406      0.073780 -0.049377   \n",
              "calculado_host_listings_count  0.133274  0.154951      0.073671  0.010327   \n",
              "disponibilidade_365            0.085541  0.203535      0.080489 -0.034657   \n",
              "\n",
              "                               latitude  longitude  room_type     price  \\\n",
              "id                            -0.003178   0.090896   0.066055  0.010618   \n",
              "host_id                        0.020199   0.127049   0.090468  0.015309   \n",
              "bairro_group                   0.279541   0.101164  -0.016321  0.044246   \n",
              "bairro                         0.234799  -0.102381  -0.071965  0.062057   \n",
              "latitude                       1.000000   0.084777   0.006509  0.033939   \n",
              "longitude                      0.084777   1.000000   0.184351 -0.150020   \n",
              "room_type                      0.006509   0.184351   1.000000 -0.249351   \n",
              "price                          0.033939  -0.150020  -0.249351  1.000000   \n",
              "minimo_noites                  0.024861  -0.062750  -0.069787  0.042799   \n",
              "numero_de_reviews             -0.015399   0.059092   0.002730 -0.047954   \n",
              "reviews_por_mes               -0.010168   0.145941   0.040688 -0.030608   \n",
              "calculado_host_listings_count  0.019517  -0.114713  -0.106055  0.057472   \n",
              "disponibilidade_365           -0.010926   0.082751   0.022466  0.081833   \n",
              "\n",
              "                               minimo_noites  numero_de_reviews  \\\n",
              "id                                 -0.013235          -0.319782   \n",
              "host_id                            -0.017370          -0.140113   \n",
              "bairro_group                        0.017399           0.003847   \n",
              "bairro                              0.026000          -0.038342   \n",
              "latitude                            0.024861          -0.015399   \n",
              "longitude                          -0.062750           0.059092   \n",
              "room_type                          -0.069787           0.002730   \n",
              "price                               0.042799          -0.047954   \n",
              "minimo_noites                       1.000000          -0.080118   \n",
              "numero_de_reviews                  -0.080118           1.000000   \n",
              "reviews_por_mes                    -0.121708           0.549865   \n",
              "calculado_host_listings_count       0.127960          -0.072376   \n",
              "disponibilidade_365                 0.144320           0.172047   \n",
              "\n",
              "                               reviews_por_mes  calculado_host_listings_count  \\\n",
              "id                                    0.291810                       0.133274   \n",
              "host_id                               0.296406                       0.154951   \n",
              "bairro_group                          0.073780                       0.073671   \n",
              "bairro                               -0.049377                       0.010327   \n",
              "latitude                             -0.010168                       0.019517   \n",
              "longitude                             0.145941                      -0.114713   \n",
              "room_type                             0.040688                      -0.106055   \n",
              "price                                -0.030608                       0.057472   \n",
              "minimo_noites                        -0.121708                       0.127960   \n",
              "numero_de_reviews                     0.549865                      -0.072376   \n",
              "reviews_por_mes                       1.000000                      -0.009421   \n",
              "calculado_host_listings_count        -0.009421                       1.000000   \n",
              "disponibilidade_365                   0.185835                       0.225711   \n",
              "\n",
              "                               disponibilidade_365  \n",
              "id                                        0.085541  \n",
              "host_id                                   0.203535  \n",
              "bairro_group                              0.080489  \n",
              "bairro                                   -0.034657  \n",
              "latitude                                 -0.010926  \n",
              "longitude                                 0.082751  \n",
              "room_type                                 0.022466  \n",
              "price                                     0.081833  \n",
              "minimo_noites                             0.144320  \n",
              "numero_de_reviews                         0.172047  \n",
              "reviews_por_mes                           0.185835  \n",
              "calculado_host_listings_count             0.225711  \n",
              "disponibilidade_365                       1.000000  "
            ],
            "text/html": [
              "\n",
              "  <div id=\"df-3f0f292f-9253-47d3-89fa-13d0d7fe957f\" class=\"colab-df-container\">\n",
              "    <div>\n",
              "<style scoped>\n",
              "    .dataframe tbody tr th:only-of-type {\n",
              "        vertical-align: middle;\n",
              "    }\n",
              "\n",
              "    .dataframe tbody tr th {\n",
              "        vertical-align: top;\n",
              "    }\n",
              "\n",
              "    .dataframe thead th {\n",
              "        text-align: right;\n",
              "    }\n",
              "</style>\n",
              "<table border=\"1\" class=\"dataframe\">\n",
              "  <thead>\n",
              "    <tr style=\"text-align: right;\">\n",
              "      <th></th>\n",
              "      <th>id</th>\n",
              "      <th>host_id</th>\n",
              "      <th>bairro_group</th>\n",
              "      <th>bairro</th>\n",
              "      <th>latitude</th>\n",
              "      <th>longitude</th>\n",
              "      <th>room_type</th>\n",
              "      <th>price</th>\n",
              "      <th>minimo_noites</th>\n",
              "      <th>numero_de_reviews</th>\n",
              "      <th>reviews_por_mes</th>\n",
              "      <th>calculado_host_listings_count</th>\n",
              "      <th>disponibilidade_365</th>\n",
              "    </tr>\n",
              "  </thead>\n",
              "  <tbody>\n",
              "    <tr>\n",
              "      <th>id</th>\n",
              "      <td>1.000000</td>\n",
              "      <td>0.588282</td>\n",
              "      <td>0.062253</td>\n",
              "      <td>-0.033209</td>\n",
              "      <td>-0.003178</td>\n",
              "      <td>0.090896</td>\n",
              "      <td>0.066055</td>\n",
              "      <td>0.010618</td>\n",
              "      <td>-0.013235</td>\n",
              "      <td>-0.319782</td>\n",
              "      <td>0.291810</td>\n",
              "      <td>0.133274</td>\n",
              "      <td>0.085541</td>\n",
              "    </tr>\n",
              "    <tr>\n",
              "      <th>host_id</th>\n",
              "      <td>0.588282</td>\n",
              "      <td>1.000000</td>\n",
              "      <td>0.113517</td>\n",
              "      <td>-0.028343</td>\n",
              "      <td>0.020199</td>\n",
              "      <td>0.127049</td>\n",
              "      <td>0.090468</td>\n",
              "      <td>0.015309</td>\n",
              "      <td>-0.017370</td>\n",
              "      <td>-0.140113</td>\n",
              "      <td>0.296406</td>\n",
              "      <td>0.154951</td>\n",
              "      <td>0.203535</td>\n",
              "    </tr>\n",
              "    <tr>\n",
              "      <th>bairro_group</th>\n",
              "      <td>0.062253</td>\n",
              "      <td>0.113517</td>\n",
              "      <td>1.000000</td>\n",
              "      <td>0.111335</td>\n",
              "      <td>0.279541</td>\n",
              "      <td>0.101164</td>\n",
              "      <td>-0.016321</td>\n",
              "      <td>0.044246</td>\n",
              "      <td>0.017399</td>\n",
              "      <td>0.003847</td>\n",
              "      <td>0.073780</td>\n",
              "      <td>0.073671</td>\n",
              "      <td>0.080489</td>\n",
              "    </tr>\n",
              "    <tr>\n",
              "      <th>bairro</th>\n",
              "      <td>-0.033209</td>\n",
              "      <td>-0.028343</td>\n",
              "      <td>0.111335</td>\n",
              "      <td>1.000000</td>\n",
              "      <td>0.234799</td>\n",
              "      <td>-0.102381</td>\n",
              "      <td>-0.071965</td>\n",
              "      <td>0.062057</td>\n",
              "      <td>0.026000</td>\n",
              "      <td>-0.038342</td>\n",
              "      <td>-0.049377</td>\n",
              "      <td>0.010327</td>\n",
              "      <td>-0.034657</td>\n",
              "    </tr>\n",
              "    <tr>\n",
              "      <th>latitude</th>\n",
              "      <td>-0.003178</td>\n",
              "      <td>0.020199</td>\n",
              "      <td>0.279541</td>\n",
              "      <td>0.234799</td>\n",
              "      <td>1.000000</td>\n",
              "      <td>0.084777</td>\n",
              "      <td>0.006509</td>\n",
              "      <td>0.033939</td>\n",
              "      <td>0.024861</td>\n",
              "      <td>-0.015399</td>\n",
              "      <td>-0.010168</td>\n",
              "      <td>0.019517</td>\n",
              "      <td>-0.010926</td>\n",
              "    </tr>\n",
              "    <tr>\n",
              "      <th>longitude</th>\n",
              "      <td>0.090896</td>\n",
              "      <td>0.127049</td>\n",
              "      <td>0.101164</td>\n",
              "      <td>-0.102381</td>\n",
              "      <td>0.084777</td>\n",
              "      <td>1.000000</td>\n",
              "      <td>0.184351</td>\n",
              "      <td>-0.150020</td>\n",
              "      <td>-0.062750</td>\n",
              "      <td>0.059092</td>\n",
              "      <td>0.145941</td>\n",
              "      <td>-0.114713</td>\n",
              "      <td>0.082751</td>\n",
              "    </tr>\n",
              "    <tr>\n",
              "      <th>room_type</th>\n",
              "      <td>0.066055</td>\n",
              "      <td>0.090468</td>\n",
              "      <td>-0.016321</td>\n",
              "      <td>-0.071965</td>\n",
              "      <td>0.006509</td>\n",
              "      <td>0.184351</td>\n",
              "      <td>1.000000</td>\n",
              "      <td>-0.249351</td>\n",
              "      <td>-0.069787</td>\n",
              "      <td>0.002730</td>\n",
              "      <td>0.040688</td>\n",
              "      <td>-0.106055</td>\n",
              "      <td>0.022466</td>\n",
              "    </tr>\n",
              "    <tr>\n",
              "      <th>price</th>\n",
              "      <td>0.010618</td>\n",
              "      <td>0.015309</td>\n",
              "      <td>0.044246</td>\n",
              "      <td>0.062057</td>\n",
              "      <td>0.033939</td>\n",
              "      <td>-0.150020</td>\n",
              "      <td>-0.249351</td>\n",
              "      <td>1.000000</td>\n",
              "      <td>0.042799</td>\n",
              "      <td>-0.047954</td>\n",
              "      <td>-0.030608</td>\n",
              "      <td>0.057472</td>\n",
              "      <td>0.081833</td>\n",
              "    </tr>\n",
              "    <tr>\n",
              "      <th>minimo_noites</th>\n",
              "      <td>-0.013235</td>\n",
              "      <td>-0.017370</td>\n",
              "      <td>0.017399</td>\n",
              "      <td>0.026000</td>\n",
              "      <td>0.024861</td>\n",
              "      <td>-0.062750</td>\n",
              "      <td>-0.069787</td>\n",
              "      <td>0.042799</td>\n",
              "      <td>1.000000</td>\n",
              "      <td>-0.080118</td>\n",
              "      <td>-0.121708</td>\n",
              "      <td>0.127960</td>\n",
              "      <td>0.144320</td>\n",
              "    </tr>\n",
              "    <tr>\n",
              "      <th>numero_de_reviews</th>\n",
              "      <td>-0.319782</td>\n",
              "      <td>-0.140113</td>\n",
              "      <td>0.003847</td>\n",
              "      <td>-0.038342</td>\n",
              "      <td>-0.015399</td>\n",
              "      <td>0.059092</td>\n",
              "      <td>0.002730</td>\n",
              "      <td>-0.047954</td>\n",
              "      <td>-0.080118</td>\n",
              "      <td>1.000000</td>\n",
              "      <td>0.549865</td>\n",
              "      <td>-0.072376</td>\n",
              "      <td>0.172047</td>\n",
              "    </tr>\n",
              "    <tr>\n",
              "      <th>reviews_por_mes</th>\n",
              "      <td>0.291810</td>\n",
              "      <td>0.296406</td>\n",
              "      <td>0.073780</td>\n",
              "      <td>-0.049377</td>\n",
              "      <td>-0.010168</td>\n",
              "      <td>0.145941</td>\n",
              "      <td>0.040688</td>\n",
              "      <td>-0.030608</td>\n",
              "      <td>-0.121708</td>\n",
              "      <td>0.549865</td>\n",
              "      <td>1.000000</td>\n",
              "      <td>-0.009421</td>\n",
              "      <td>0.185835</td>\n",
              "    </tr>\n",
              "    <tr>\n",
              "      <th>calculado_host_listings_count</th>\n",
              "      <td>0.133274</td>\n",
              "      <td>0.154951</td>\n",
              "      <td>0.073671</td>\n",
              "      <td>0.010327</td>\n",
              "      <td>0.019517</td>\n",
              "      <td>-0.114713</td>\n",
              "      <td>-0.106055</td>\n",
              "      <td>0.057472</td>\n",
              "      <td>0.127960</td>\n",
              "      <td>-0.072376</td>\n",
              "      <td>-0.009421</td>\n",
              "      <td>1.000000</td>\n",
              "      <td>0.225711</td>\n",
              "    </tr>\n",
              "    <tr>\n",
              "      <th>disponibilidade_365</th>\n",
              "      <td>0.085541</td>\n",
              "      <td>0.203535</td>\n",
              "      <td>0.080489</td>\n",
              "      <td>-0.034657</td>\n",
              "      <td>-0.010926</td>\n",
              "      <td>0.082751</td>\n",
              "      <td>0.022466</td>\n",
              "      <td>0.081833</td>\n",
              "      <td>0.144320</td>\n",
              "      <td>0.172047</td>\n",
              "      <td>0.185835</td>\n",
              "      <td>0.225711</td>\n",
              "      <td>1.000000</td>\n",
              "    </tr>\n",
              "  </tbody>\n",
              "</table>\n",
              "</div>\n",
              "    <div class=\"colab-df-buttons\">\n",
              "\n",
              "  <div class=\"colab-df-container\">\n",
              "    <button class=\"colab-df-convert\" onclick=\"convertToInteractive('df-3f0f292f-9253-47d3-89fa-13d0d7fe957f')\"\n",
              "            title=\"Convert this dataframe to an interactive table.\"\n",
              "            style=\"display:none;\">\n",
              "\n",
              "  <svg xmlns=\"http://www.w3.org/2000/svg\" height=\"24px\" viewBox=\"0 -960 960 960\">\n",
              "    <path d=\"M120-120v-720h720v720H120Zm60-500h600v-160H180v160Zm220 220h160v-160H400v160Zm0 220h160v-160H400v160ZM180-400h160v-160H180v160Zm440 0h160v-160H620v160ZM180-180h160v-160H180v160Zm440 0h160v-160H620v160Z\"/>\n",
              "  </svg>\n",
              "    </button>\n",
              "\n",
              "  <style>\n",
              "    .colab-df-container {\n",
              "      display:flex;\n",
              "      gap: 12px;\n",
              "    }\n",
              "\n",
              "    .colab-df-convert {\n",
              "      background-color: #E8F0FE;\n",
              "      border: none;\n",
              "      border-radius: 50%;\n",
              "      cursor: pointer;\n",
              "      display: none;\n",
              "      fill: #1967D2;\n",
              "      height: 32px;\n",
              "      padding: 0 0 0 0;\n",
              "      width: 32px;\n",
              "    }\n",
              "\n",
              "    .colab-df-convert:hover {\n",
              "      background-color: #E2EBFA;\n",
              "      box-shadow: 0px 1px 2px rgba(60, 64, 67, 0.3), 0px 1px 3px 1px rgba(60, 64, 67, 0.15);\n",
              "      fill: #174EA6;\n",
              "    }\n",
              "\n",
              "    .colab-df-buttons div {\n",
              "      margin-bottom: 4px;\n",
              "    }\n",
              "\n",
              "    [theme=dark] .colab-df-convert {\n",
              "      background-color: #3B4455;\n",
              "      fill: #D2E3FC;\n",
              "    }\n",
              "\n",
              "    [theme=dark] .colab-df-convert:hover {\n",
              "      background-color: #434B5C;\n",
              "      box-shadow: 0px 1px 3px 1px rgba(0, 0, 0, 0.15);\n",
              "      filter: drop-shadow(0px 1px 2px rgba(0, 0, 0, 0.3));\n",
              "      fill: #FFFFFF;\n",
              "    }\n",
              "  </style>\n",
              "\n",
              "    <script>\n",
              "      const buttonEl =\n",
              "        document.querySelector('#df-3f0f292f-9253-47d3-89fa-13d0d7fe957f button.colab-df-convert');\n",
              "      buttonEl.style.display =\n",
              "        google.colab.kernel.accessAllowed ? 'block' : 'none';\n",
              "\n",
              "      async function convertToInteractive(key) {\n",
              "        const element = document.querySelector('#df-3f0f292f-9253-47d3-89fa-13d0d7fe957f');\n",
              "        const dataTable =\n",
              "          await google.colab.kernel.invokeFunction('convertToInteractive',\n",
              "                                                    [key], {});\n",
              "        if (!dataTable) return;\n",
              "\n",
              "        const docLinkHtml = 'Like what you see? Visit the ' +\n",
              "          '<a target=\"_blank\" href=https://colab.research.google.com/notebooks/data_table.ipynb>data table notebook</a>'\n",
              "          + ' to learn more about interactive tables.';\n",
              "        element.innerHTML = '';\n",
              "        dataTable['output_type'] = 'display_data';\n",
              "        await google.colab.output.renderOutput(dataTable, element);\n",
              "        const docLink = document.createElement('div');\n",
              "        docLink.innerHTML = docLinkHtml;\n",
              "        element.appendChild(docLink);\n",
              "      }\n",
              "    </script>\n",
              "  </div>\n",
              "\n",
              "\n",
              "<div id=\"df-efa7db86-308a-4039-b42f-9adea8717cb2\">\n",
              "  <button class=\"colab-df-quickchart\" onclick=\"quickchart('df-efa7db86-308a-4039-b42f-9adea8717cb2')\"\n",
              "            title=\"Suggest charts\"\n",
              "            style=\"display:none;\">\n",
              "\n",
              "<svg xmlns=\"http://www.w3.org/2000/svg\" height=\"24px\"viewBox=\"0 0 24 24\"\n",
              "     width=\"24px\">\n",
              "    <g>\n",
              "        <path d=\"M19 3H5c-1.1 0-2 .9-2 2v14c0 1.1.9 2 2 2h14c1.1 0 2-.9 2-2V5c0-1.1-.9-2-2-2zM9 17H7v-7h2v7zm4 0h-2V7h2v10zm4 0h-2v-4h2v4z\"/>\n",
              "    </g>\n",
              "</svg>\n",
              "  </button>\n",
              "\n",
              "<style>\n",
              "  .colab-df-quickchart {\n",
              "      --bg-color: #E8F0FE;\n",
              "      --fill-color: #1967D2;\n",
              "      --hover-bg-color: #E2EBFA;\n",
              "      --hover-fill-color: #174EA6;\n",
              "      --disabled-fill-color: #AAA;\n",
              "      --disabled-bg-color: #DDD;\n",
              "  }\n",
              "\n",
              "  [theme=dark] .colab-df-quickchart {\n",
              "      --bg-color: #3B4455;\n",
              "      --fill-color: #D2E3FC;\n",
              "      --hover-bg-color: #434B5C;\n",
              "      --hover-fill-color: #FFFFFF;\n",
              "      --disabled-bg-color: #3B4455;\n",
              "      --disabled-fill-color: #666;\n",
              "  }\n",
              "\n",
              "  .colab-df-quickchart {\n",
              "    background-color: var(--bg-color);\n",
              "    border: none;\n",
              "    border-radius: 50%;\n",
              "    cursor: pointer;\n",
              "    display: none;\n",
              "    fill: var(--fill-color);\n",
              "    height: 32px;\n",
              "    padding: 0;\n",
              "    width: 32px;\n",
              "  }\n",
              "\n",
              "  .colab-df-quickchart:hover {\n",
              "    background-color: var(--hover-bg-color);\n",
              "    box-shadow: 0 1px 2px rgba(60, 64, 67, 0.3), 0 1px 3px 1px rgba(60, 64, 67, 0.15);\n",
              "    fill: var(--button-hover-fill-color);\n",
              "  }\n",
              "\n",
              "  .colab-df-quickchart-complete:disabled,\n",
              "  .colab-df-quickchart-complete:disabled:hover {\n",
              "    background-color: var(--disabled-bg-color);\n",
              "    fill: var(--disabled-fill-color);\n",
              "    box-shadow: none;\n",
              "  }\n",
              "\n",
              "  .colab-df-spinner {\n",
              "    border: 2px solid var(--fill-color);\n",
              "    border-color: transparent;\n",
              "    border-bottom-color: var(--fill-color);\n",
              "    animation:\n",
              "      spin 1s steps(1) infinite;\n",
              "  }\n",
              "\n",
              "  @keyframes spin {\n",
              "    0% {\n",
              "      border-color: transparent;\n",
              "      border-bottom-color: var(--fill-color);\n",
              "      border-left-color: var(--fill-color);\n",
              "    }\n",
              "    20% {\n",
              "      border-color: transparent;\n",
              "      border-left-color: var(--fill-color);\n",
              "      border-top-color: var(--fill-color);\n",
              "    }\n",
              "    30% {\n",
              "      border-color: transparent;\n",
              "      border-left-color: var(--fill-color);\n",
              "      border-top-color: var(--fill-color);\n",
              "      border-right-color: var(--fill-color);\n",
              "    }\n",
              "    40% {\n",
              "      border-color: transparent;\n",
              "      border-right-color: var(--fill-color);\n",
              "      border-top-color: var(--fill-color);\n",
              "    }\n",
              "    60% {\n",
              "      border-color: transparent;\n",
              "      border-right-color: var(--fill-color);\n",
              "    }\n",
              "    80% {\n",
              "      border-color: transparent;\n",
              "      border-right-color: var(--fill-color);\n",
              "      border-bottom-color: var(--fill-color);\n",
              "    }\n",
              "    90% {\n",
              "      border-color: transparent;\n",
              "      border-bottom-color: var(--fill-color);\n",
              "    }\n",
              "  }\n",
              "</style>\n",
              "\n",
              "  <script>\n",
              "    async function quickchart(key) {\n",
              "      const quickchartButtonEl =\n",
              "        document.querySelector('#' + key + ' button');\n",
              "      quickchartButtonEl.disabled = true;  // To prevent multiple clicks.\n",
              "      quickchartButtonEl.classList.add('colab-df-spinner');\n",
              "      try {\n",
              "        const charts = await google.colab.kernel.invokeFunction(\n",
              "            'suggestCharts', [key], {});\n",
              "      } catch (error) {\n",
              "        console.error('Error during call to suggestCharts:', error);\n",
              "      }\n",
              "      quickchartButtonEl.classList.remove('colab-df-spinner');\n",
              "      quickchartButtonEl.classList.add('colab-df-quickchart-complete');\n",
              "    }\n",
              "    (() => {\n",
              "      let quickchartButtonEl =\n",
              "        document.querySelector('#df-efa7db86-308a-4039-b42f-9adea8717cb2 button');\n",
              "      quickchartButtonEl.style.display =\n",
              "        google.colab.kernel.accessAllowed ? 'block' : 'none';\n",
              "    })();\n",
              "  </script>\n",
              "</div>\n",
              "\n",
              "    </div>\n",
              "  </div>\n"
            ],
            "application/vnd.google.colaboratory.intrinsic+json": {
              "type": "dataframe",
              "summary": "{\n  \"name\": \"df\",\n  \"rows\": 13,\n  \"fields\": [\n    {\n      \"column\": \"id\",\n      \"properties\": {\n        \"dtype\": \"number\",\n        \"std\": 0.32674735905613866,\n        \"min\": -0.3197818403853734,\n        \"max\": 1.0,\n        \"samples\": [\n          0.13327440269801935,\n          -0.3197818403853734,\n          1.0\n        ],\n        \"num_unique_values\": 13,\n        \"semantic_type\": \"\",\n        \"description\": \"\"\n      }\n    },\n    {\n      \"column\": \"host_id\",\n      \"properties\": {\n        \"dtype\": \"number\",\n        \"std\": 0.3035920995851847,\n        \"min\": -0.14011281737060852,\n        \"max\": 1.0,\n        \"samples\": [\n          0.15495076369847616,\n          -0.14011281737060852,\n          0.5882821737056843\n        ],\n        \"num_unique_values\": 13,\n        \"semantic_type\": \"\",\n        \"description\": \"\"\n      }\n    },\n    {\n      \"column\": \"bairro_group\",\n      \"properties\": {\n        \"dtype\": \"number\",\n        \"std\": 0.2655885099266331,\n        \"min\": -0.01632052999139633,\n        \"max\": 1.0,\n        \"samples\": [\n          0.07367118613536863,\n          0.0038465845118479357,\n          0.06225251728961956\n        ],\n        \"num_unique_values\": 13,\n        \"semantic_type\": \"\",\n        \"description\": \"\"\n      }\n    },\n    {\n      \"column\": \"bairro\",\n      \"properties\": {\n        \"dtype\": \"number\",\n        \"std\": 0.2892623664373788,\n        \"min\": -0.10238139787400738,\n        \"max\": 1.0,\n        \"samples\": [\n          0.010327423777304853,\n          -0.03834215143815349,\n          -0.0332085478933189\n        ],\n        \"num_unique_values\": 13,\n        \"semantic_type\": \"\",\n        \"description\": \"\"\n      }\n    },\n    {\n      \"column\": \"latitude\",\n      \"properties\": {\n        \"dtype\": \"number\",\n        \"std\": 0.2784510112580591,\n        \"min\": -0.015398961616599097,\n        \"max\": 1.0,\n        \"samples\": [\n          0.01951673613039091,\n          -0.015398961616599097,\n          -0.0031783598325304616\n        ],\n        \"num_unique_values\": 13,\n        \"semantic_type\": \"\",\n        \"description\": \"\"\n      }\n    },\n    {\n      \"column\": \"longitude\",\n      \"properties\": {\n        \"dtype\": \"number\",\n        \"std\": 0.28819242429143727,\n        \"min\": -0.15001970286297245,\n        \"max\": 1.0,\n        \"samples\": [\n          -0.11471332802532758,\n          0.05909159769834321,\n          0.09089595819769744\n        ],\n        \"num_unique_values\": 13,\n        \"semantic_type\": \"\",\n        \"description\": \"\"\n      }\n    },\n    {\n      \"column\": \"room_type\",\n      \"properties\": {\n        \"dtype\": \"number\",\n        \"std\": 0.2986363669020663,\n        \"min\": -0.24935139551218072,\n        \"max\": 1.0,\n        \"samples\": [\n          -0.10605483711676165,\n          0.002729542750359143,\n          0.06605485826119549\n        ],\n        \"num_unique_values\": 13,\n        \"semantic_type\": \"\",\n        \"description\": \"\"\n      }\n    },\n    {\n      \"column\": \"price\",\n      \"properties\": {\n        \"dtype\": \"number\",\n        \"std\": 0.2956333678291496,\n        \"min\": -0.24935139551218072,\n        \"max\": 1.0,\n        \"samples\": [\n          0.057471678216861215,\n          -0.047954378575983156,\n          0.010618438108674567\n        ],\n        \"num_unique_values\": 13,\n        \"semantic_type\": \"\",\n        \"description\": \"\"\n      }\n    },\n    {\n      \"column\": \"minimo_noites\",\n      \"properties\": {\n        \"dtype\": \"number\",\n        \"std\": 0.2874270664313882,\n        \"min\": -0.1217080648648611,\n        \"max\": 1.0,\n        \"samples\": [\n          0.1279595353666722,\n          -0.08011814979552294,\n          -0.013235281349603554\n        ],\n        \"num_unique_values\": 13,\n        \"semantic_type\": \"\",\n        \"description\": \"\"\n      }\n    },\n    {\n      \"column\": \"numero_de_reviews\",\n      \"properties\": {\n        \"dtype\": \"number\",\n        \"std\": 0.3396537484096357,\n        \"min\": -0.3197818403853734,\n        \"max\": 1.0,\n        \"samples\": [\n          -0.0723763649244496,\n          1.0,\n          -0.3197818403853734\n        ],\n        \"num_unique_values\": 13,\n        \"semantic_type\": \"\",\n        \"description\": \"\"\n      }\n    },\n    {\n      \"column\": \"reviews_por_mes\",\n      \"properties\": {\n        \"dtype\": \"number\",\n        \"std\": 0.30647685658634194,\n        \"min\": -0.1217080648648611,\n        \"max\": 1.0,\n        \"samples\": [\n          -0.009420653841334045,\n          0.5498646469768714,\n          0.29181029616794435\n        ],\n        \"num_unique_values\": 13,\n        \"semantic_type\": \"\",\n        \"description\": \"\"\n      }\n    },\n    {\n      \"column\": \"calculado_host_listings_count\",\n      \"properties\": {\n        \"dtype\": \"number\",\n        \"std\": 0.28502815647444496,\n        \"min\": -0.11471332802532758,\n        \"max\": 1.0,\n        \"samples\": [\n          1.0,\n          -0.0723763649244496,\n          0.13327440269801935\n        ],\n        \"num_unique_values\": 13,\n        \"semantic_type\": \"\",\n        \"description\": \"\"\n      }\n    },\n    {\n      \"column\": \"disponibilidade_365\",\n      \"properties\": {\n        \"dtype\": \"number\",\n        \"std\": 0.2615489953756238,\n        \"min\": -0.03465709053164382,\n        \"max\": 1.0,\n        \"samples\": [\n          0.22571121136693048,\n          0.1720467803219136,\n          0.08554126287647144\n        ],\n        \"num_unique_values\": 13,\n        \"semantic_type\": \"\",\n        \"description\": \"\"\n      }\n    }\n  ]\n}"
            }
          },
          "metadata": {},
          "execution_count": 25
        }
      ]
    },
    {
      "cell_type": "markdown",
      "source": [
        "As correlações mais relevantes de preço são a disponibilidade e a longitude."
      ],
      "metadata": {
        "id": "HzcHKU4vq4ph"
      }
    },
    {
      "cell_type": "code",
      "source": [
        "df.corr(\"spearman\")"
      ],
      "metadata": {
        "colab": {
          "base_uri": "https://localhost:8080/",
          "height": 512
        },
        "id": "gkag3iD1pUAv",
        "outputId": "1d68eb08-4357-49e9-c14e-74330c63d37e"
      },
      "execution_count": null,
      "outputs": [
        {
          "output_type": "stream",
          "name": "stderr",
          "text": [
            "<ipython-input-26-161ee86d3b91>:1: FutureWarning: The default value of numeric_only in DataFrame.corr is deprecated. In a future version, it will default to False. Select only valid columns or specify the value of numeric_only to silence this warning.\n",
            "  df.corr(\"spearman\")\n"
          ]
        },
        {
          "output_type": "execute_result",
          "data": {
            "text/plain": [
              "                                     id   host_id  bairro_group    bairro  \\\n",
              "id                             1.000000  0.558891      0.061026 -0.028459   \n",
              "host_id                        0.558891  1.000000      0.131927 -0.023412   \n",
              "bairro_group                   0.061026  0.131927      1.000000  0.160292   \n",
              "bairro                        -0.028459 -0.023412      0.160292  1.000000   \n",
              "latitude                       0.004942  0.049570      0.517335  0.287625   \n",
              "longitude                      0.070682  0.108952     -0.048204 -0.172964   \n",
              "room_type                      0.058972  0.109235     -0.036689 -0.075244   \n",
              "price                         -0.020723 -0.071757      0.124842  0.160188   \n",
              "minimo_noites                 -0.057847 -0.130302     -0.020397  0.045729   \n",
              "numero_de_reviews             -0.307931 -0.128001     -0.021022 -0.051864   \n",
              "reviews_por_mes                0.360423  0.267876      0.048067 -0.066106   \n",
              "calculado_host_listings_count  0.135316  0.147339      0.061869 -0.036559   \n",
              "disponibilidade_365            0.165786  0.173364      0.076301 -0.038687   \n",
              "\n",
              "                               latitude  longitude  room_type     price  \\\n",
              "id                             0.004942   0.070682   0.058972 -0.020723   \n",
              "host_id                        0.049570   0.108952   0.109235 -0.071757   \n",
              "bairro_group                   0.517335  -0.048204  -0.036689  0.124842   \n",
              "bairro                         0.287625  -0.172964  -0.075244  0.160188   \n",
              "latitude                       1.000000   0.035090  -0.019136  0.136191   \n",
              "longitude                      0.035090   1.000000   0.239880 -0.438031   \n",
              "room_type                     -0.019136   0.239880   1.000000 -0.676055   \n",
              "price                          0.136191  -0.438031  -0.676055  1.000000   \n",
              "minimo_noites                  0.022248  -0.118939  -0.217218  0.101304   \n",
              "numero_de_reviews             -0.044345   0.079851  -0.014902 -0.055012   \n",
              "reviews_por_mes               -0.023181   0.119081   0.034049 -0.018515   \n",
              "calculado_host_listings_count  0.003579   0.063548   0.177784 -0.106108   \n",
              "disponibilidade_365           -0.006906   0.068922   0.009789  0.086072   \n",
              "\n",
              "                               minimo_noites  numero_de_reviews  \\\n",
              "id                                 -0.057847          -0.307931   \n",
              "host_id                            -0.130302          -0.128001   \n",
              "bairro_group                       -0.020397          -0.021022   \n",
              "bairro                              0.045729          -0.051864   \n",
              "latitude                            0.022248          -0.044345   \n",
              "longitude                          -0.118939           0.079851   \n",
              "room_type                          -0.217218          -0.014902   \n",
              "price                               0.101304          -0.055012   \n",
              "minimo_noites                       1.000000          -0.174901   \n",
              "numero_de_reviews                  -0.174901           1.000000   \n",
              "reviews_por_mes                    -0.288838           0.706211   \n",
              "calculado_host_listings_count       0.064163           0.056048   \n",
              "disponibilidade_365                 0.076032           0.236659   \n",
              "\n",
              "                               reviews_por_mes  calculado_host_listings_count  \\\n",
              "id                                    0.360423                       0.135316   \n",
              "host_id                               0.267876                       0.147339   \n",
              "bairro_group                          0.048067                       0.061869   \n",
              "bairro                               -0.066106                      -0.036559   \n",
              "latitude                             -0.023181                       0.003579   \n",
              "longitude                             0.119081                       0.063548   \n",
              "room_type                             0.034049                       0.177784   \n",
              "price                                -0.018515                      -0.106108   \n",
              "minimo_noites                        -0.288838                       0.064163   \n",
              "numero_de_reviews                     0.706211                       0.056048   \n",
              "reviews_por_mes                       1.000000                       0.146529   \n",
              "calculado_host_listings_count         0.146529                       1.000000   \n",
              "disponibilidade_365                   0.392180                       0.406569   \n",
              "\n",
              "                               disponibilidade_365  \n",
              "id                                        0.165786  \n",
              "host_id                                   0.173364  \n",
              "bairro_group                              0.076301  \n",
              "bairro                                   -0.038687  \n",
              "latitude                                 -0.006906  \n",
              "longitude                                 0.068922  \n",
              "room_type                                 0.009789  \n",
              "price                                     0.086072  \n",
              "minimo_noites                             0.076032  \n",
              "numero_de_reviews                         0.236659  \n",
              "reviews_por_mes                           0.392180  \n",
              "calculado_host_listings_count             0.406569  \n",
              "disponibilidade_365                       1.000000  "
            ],
            "text/html": [
              "\n",
              "  <div id=\"df-2a5047e6-072f-40d8-b2ba-21b48d052530\" class=\"colab-df-container\">\n",
              "    <div>\n",
              "<style scoped>\n",
              "    .dataframe tbody tr th:only-of-type {\n",
              "        vertical-align: middle;\n",
              "    }\n",
              "\n",
              "    .dataframe tbody tr th {\n",
              "        vertical-align: top;\n",
              "    }\n",
              "\n",
              "    .dataframe thead th {\n",
              "        text-align: right;\n",
              "    }\n",
              "</style>\n",
              "<table border=\"1\" class=\"dataframe\">\n",
              "  <thead>\n",
              "    <tr style=\"text-align: right;\">\n",
              "      <th></th>\n",
              "      <th>id</th>\n",
              "      <th>host_id</th>\n",
              "      <th>bairro_group</th>\n",
              "      <th>bairro</th>\n",
              "      <th>latitude</th>\n",
              "      <th>longitude</th>\n",
              "      <th>room_type</th>\n",
              "      <th>price</th>\n",
              "      <th>minimo_noites</th>\n",
              "      <th>numero_de_reviews</th>\n",
              "      <th>reviews_por_mes</th>\n",
              "      <th>calculado_host_listings_count</th>\n",
              "      <th>disponibilidade_365</th>\n",
              "    </tr>\n",
              "  </thead>\n",
              "  <tbody>\n",
              "    <tr>\n",
              "      <th>id</th>\n",
              "      <td>1.000000</td>\n",
              "      <td>0.558891</td>\n",
              "      <td>0.061026</td>\n",
              "      <td>-0.028459</td>\n",
              "      <td>0.004942</td>\n",
              "      <td>0.070682</td>\n",
              "      <td>0.058972</td>\n",
              "      <td>-0.020723</td>\n",
              "      <td>-0.057847</td>\n",
              "      <td>-0.307931</td>\n",
              "      <td>0.360423</td>\n",
              "      <td>0.135316</td>\n",
              "      <td>0.165786</td>\n",
              "    </tr>\n",
              "    <tr>\n",
              "      <th>host_id</th>\n",
              "      <td>0.558891</td>\n",
              "      <td>1.000000</td>\n",
              "      <td>0.131927</td>\n",
              "      <td>-0.023412</td>\n",
              "      <td>0.049570</td>\n",
              "      <td>0.108952</td>\n",
              "      <td>0.109235</td>\n",
              "      <td>-0.071757</td>\n",
              "      <td>-0.130302</td>\n",
              "      <td>-0.128001</td>\n",
              "      <td>0.267876</td>\n",
              "      <td>0.147339</td>\n",
              "      <td>0.173364</td>\n",
              "    </tr>\n",
              "    <tr>\n",
              "      <th>bairro_group</th>\n",
              "      <td>0.061026</td>\n",
              "      <td>0.131927</td>\n",
              "      <td>1.000000</td>\n",
              "      <td>0.160292</td>\n",
              "      <td>0.517335</td>\n",
              "      <td>-0.048204</td>\n",
              "      <td>-0.036689</td>\n",
              "      <td>0.124842</td>\n",
              "      <td>-0.020397</td>\n",
              "      <td>-0.021022</td>\n",
              "      <td>0.048067</td>\n",
              "      <td>0.061869</td>\n",
              "      <td>0.076301</td>\n",
              "    </tr>\n",
              "    <tr>\n",
              "      <th>bairro</th>\n",
              "      <td>-0.028459</td>\n",
              "      <td>-0.023412</td>\n",
              "      <td>0.160292</td>\n",
              "      <td>1.000000</td>\n",
              "      <td>0.287625</td>\n",
              "      <td>-0.172964</td>\n",
              "      <td>-0.075244</td>\n",
              "      <td>0.160188</td>\n",
              "      <td>0.045729</td>\n",
              "      <td>-0.051864</td>\n",
              "      <td>-0.066106</td>\n",
              "      <td>-0.036559</td>\n",
              "      <td>-0.038687</td>\n",
              "    </tr>\n",
              "    <tr>\n",
              "      <th>latitude</th>\n",
              "      <td>0.004942</td>\n",
              "      <td>0.049570</td>\n",
              "      <td>0.517335</td>\n",
              "      <td>0.287625</td>\n",
              "      <td>1.000000</td>\n",
              "      <td>0.035090</td>\n",
              "      <td>-0.019136</td>\n",
              "      <td>0.136191</td>\n",
              "      <td>0.022248</td>\n",
              "      <td>-0.044345</td>\n",
              "      <td>-0.023181</td>\n",
              "      <td>0.003579</td>\n",
              "      <td>-0.006906</td>\n",
              "    </tr>\n",
              "    <tr>\n",
              "      <th>longitude</th>\n",
              "      <td>0.070682</td>\n",
              "      <td>0.108952</td>\n",
              "      <td>-0.048204</td>\n",
              "      <td>-0.172964</td>\n",
              "      <td>0.035090</td>\n",
              "      <td>1.000000</td>\n",
              "      <td>0.239880</td>\n",
              "      <td>-0.438031</td>\n",
              "      <td>-0.118939</td>\n",
              "      <td>0.079851</td>\n",
              "      <td>0.119081</td>\n",
              "      <td>0.063548</td>\n",
              "      <td>0.068922</td>\n",
              "    </tr>\n",
              "    <tr>\n",
              "      <th>room_type</th>\n",
              "      <td>0.058972</td>\n",
              "      <td>0.109235</td>\n",
              "      <td>-0.036689</td>\n",
              "      <td>-0.075244</td>\n",
              "      <td>-0.019136</td>\n",
              "      <td>0.239880</td>\n",
              "      <td>1.000000</td>\n",
              "      <td>-0.676055</td>\n",
              "      <td>-0.217218</td>\n",
              "      <td>-0.014902</td>\n",
              "      <td>0.034049</td>\n",
              "      <td>0.177784</td>\n",
              "      <td>0.009789</td>\n",
              "    </tr>\n",
              "    <tr>\n",
              "      <th>price</th>\n",
              "      <td>-0.020723</td>\n",
              "      <td>-0.071757</td>\n",
              "      <td>0.124842</td>\n",
              "      <td>0.160188</td>\n",
              "      <td>0.136191</td>\n",
              "      <td>-0.438031</td>\n",
              "      <td>-0.676055</td>\n",
              "      <td>1.000000</td>\n",
              "      <td>0.101304</td>\n",
              "      <td>-0.055012</td>\n",
              "      <td>-0.018515</td>\n",
              "      <td>-0.106108</td>\n",
              "      <td>0.086072</td>\n",
              "    </tr>\n",
              "    <tr>\n",
              "      <th>minimo_noites</th>\n",
              "      <td>-0.057847</td>\n",
              "      <td>-0.130302</td>\n",
              "      <td>-0.020397</td>\n",
              "      <td>0.045729</td>\n",
              "      <td>0.022248</td>\n",
              "      <td>-0.118939</td>\n",
              "      <td>-0.217218</td>\n",
              "      <td>0.101304</td>\n",
              "      <td>1.000000</td>\n",
              "      <td>-0.174901</td>\n",
              "      <td>-0.288838</td>\n",
              "      <td>0.064163</td>\n",
              "      <td>0.076032</td>\n",
              "    </tr>\n",
              "    <tr>\n",
              "      <th>numero_de_reviews</th>\n",
              "      <td>-0.307931</td>\n",
              "      <td>-0.128001</td>\n",
              "      <td>-0.021022</td>\n",
              "      <td>-0.051864</td>\n",
              "      <td>-0.044345</td>\n",
              "      <td>0.079851</td>\n",
              "      <td>-0.014902</td>\n",
              "      <td>-0.055012</td>\n",
              "      <td>-0.174901</td>\n",
              "      <td>1.000000</td>\n",
              "      <td>0.706211</td>\n",
              "      <td>0.056048</td>\n",
              "      <td>0.236659</td>\n",
              "    </tr>\n",
              "    <tr>\n",
              "      <th>reviews_por_mes</th>\n",
              "      <td>0.360423</td>\n",
              "      <td>0.267876</td>\n",
              "      <td>0.048067</td>\n",
              "      <td>-0.066106</td>\n",
              "      <td>-0.023181</td>\n",
              "      <td>0.119081</td>\n",
              "      <td>0.034049</td>\n",
              "      <td>-0.018515</td>\n",
              "      <td>-0.288838</td>\n",
              "      <td>0.706211</td>\n",
              "      <td>1.000000</td>\n",
              "      <td>0.146529</td>\n",
              "      <td>0.392180</td>\n",
              "    </tr>\n",
              "    <tr>\n",
              "      <th>calculado_host_listings_count</th>\n",
              "      <td>0.135316</td>\n",
              "      <td>0.147339</td>\n",
              "      <td>0.061869</td>\n",
              "      <td>-0.036559</td>\n",
              "      <td>0.003579</td>\n",
              "      <td>0.063548</td>\n",
              "      <td>0.177784</td>\n",
              "      <td>-0.106108</td>\n",
              "      <td>0.064163</td>\n",
              "      <td>0.056048</td>\n",
              "      <td>0.146529</td>\n",
              "      <td>1.000000</td>\n",
              "      <td>0.406569</td>\n",
              "    </tr>\n",
              "    <tr>\n",
              "      <th>disponibilidade_365</th>\n",
              "      <td>0.165786</td>\n",
              "      <td>0.173364</td>\n",
              "      <td>0.076301</td>\n",
              "      <td>-0.038687</td>\n",
              "      <td>-0.006906</td>\n",
              "      <td>0.068922</td>\n",
              "      <td>0.009789</td>\n",
              "      <td>0.086072</td>\n",
              "      <td>0.076032</td>\n",
              "      <td>0.236659</td>\n",
              "      <td>0.392180</td>\n",
              "      <td>0.406569</td>\n",
              "      <td>1.000000</td>\n",
              "    </tr>\n",
              "  </tbody>\n",
              "</table>\n",
              "</div>\n",
              "    <div class=\"colab-df-buttons\">\n",
              "\n",
              "  <div class=\"colab-df-container\">\n",
              "    <button class=\"colab-df-convert\" onclick=\"convertToInteractive('df-2a5047e6-072f-40d8-b2ba-21b48d052530')\"\n",
              "            title=\"Convert this dataframe to an interactive table.\"\n",
              "            style=\"display:none;\">\n",
              "\n",
              "  <svg xmlns=\"http://www.w3.org/2000/svg\" height=\"24px\" viewBox=\"0 -960 960 960\">\n",
              "    <path d=\"M120-120v-720h720v720H120Zm60-500h600v-160H180v160Zm220 220h160v-160H400v160Zm0 220h160v-160H400v160ZM180-400h160v-160H180v160Zm440 0h160v-160H620v160ZM180-180h160v-160H180v160Zm440 0h160v-160H620v160Z\"/>\n",
              "  </svg>\n",
              "    </button>\n",
              "\n",
              "  <style>\n",
              "    .colab-df-container {\n",
              "      display:flex;\n",
              "      gap: 12px;\n",
              "    }\n",
              "\n",
              "    .colab-df-convert {\n",
              "      background-color: #E8F0FE;\n",
              "      border: none;\n",
              "      border-radius: 50%;\n",
              "      cursor: pointer;\n",
              "      display: none;\n",
              "      fill: #1967D2;\n",
              "      height: 32px;\n",
              "      padding: 0 0 0 0;\n",
              "      width: 32px;\n",
              "    }\n",
              "\n",
              "    .colab-df-convert:hover {\n",
              "      background-color: #E2EBFA;\n",
              "      box-shadow: 0px 1px 2px rgba(60, 64, 67, 0.3), 0px 1px 3px 1px rgba(60, 64, 67, 0.15);\n",
              "      fill: #174EA6;\n",
              "    }\n",
              "\n",
              "    .colab-df-buttons div {\n",
              "      margin-bottom: 4px;\n",
              "    }\n",
              "\n",
              "    [theme=dark] .colab-df-convert {\n",
              "      background-color: #3B4455;\n",
              "      fill: #D2E3FC;\n",
              "    }\n",
              "\n",
              "    [theme=dark] .colab-df-convert:hover {\n",
              "      background-color: #434B5C;\n",
              "      box-shadow: 0px 1px 3px 1px rgba(0, 0, 0, 0.15);\n",
              "      filter: drop-shadow(0px 1px 2px rgba(0, 0, 0, 0.3));\n",
              "      fill: #FFFFFF;\n",
              "    }\n",
              "  </style>\n",
              "\n",
              "    <script>\n",
              "      const buttonEl =\n",
              "        document.querySelector('#df-2a5047e6-072f-40d8-b2ba-21b48d052530 button.colab-df-convert');\n",
              "      buttonEl.style.display =\n",
              "        google.colab.kernel.accessAllowed ? 'block' : 'none';\n",
              "\n",
              "      async function convertToInteractive(key) {\n",
              "        const element = document.querySelector('#df-2a5047e6-072f-40d8-b2ba-21b48d052530');\n",
              "        const dataTable =\n",
              "          await google.colab.kernel.invokeFunction('convertToInteractive',\n",
              "                                                    [key], {});\n",
              "        if (!dataTable) return;\n",
              "\n",
              "        const docLinkHtml = 'Like what you see? Visit the ' +\n",
              "          '<a target=\"_blank\" href=https://colab.research.google.com/notebooks/data_table.ipynb>data table notebook</a>'\n",
              "          + ' to learn more about interactive tables.';\n",
              "        element.innerHTML = '';\n",
              "        dataTable['output_type'] = 'display_data';\n",
              "        await google.colab.output.renderOutput(dataTable, element);\n",
              "        const docLink = document.createElement('div');\n",
              "        docLink.innerHTML = docLinkHtml;\n",
              "        element.appendChild(docLink);\n",
              "      }\n",
              "    </script>\n",
              "  </div>\n",
              "\n",
              "\n",
              "<div id=\"df-913cbdf8-74dd-42dd-a380-4d5fc6158ca9\">\n",
              "  <button class=\"colab-df-quickchart\" onclick=\"quickchart('df-913cbdf8-74dd-42dd-a380-4d5fc6158ca9')\"\n",
              "            title=\"Suggest charts\"\n",
              "            style=\"display:none;\">\n",
              "\n",
              "<svg xmlns=\"http://www.w3.org/2000/svg\" height=\"24px\"viewBox=\"0 0 24 24\"\n",
              "     width=\"24px\">\n",
              "    <g>\n",
              "        <path d=\"M19 3H5c-1.1 0-2 .9-2 2v14c0 1.1.9 2 2 2h14c1.1 0 2-.9 2-2V5c0-1.1-.9-2-2-2zM9 17H7v-7h2v7zm4 0h-2V7h2v10zm4 0h-2v-4h2v4z\"/>\n",
              "    </g>\n",
              "</svg>\n",
              "  </button>\n",
              "\n",
              "<style>\n",
              "  .colab-df-quickchart {\n",
              "      --bg-color: #E8F0FE;\n",
              "      --fill-color: #1967D2;\n",
              "      --hover-bg-color: #E2EBFA;\n",
              "      --hover-fill-color: #174EA6;\n",
              "      --disabled-fill-color: #AAA;\n",
              "      --disabled-bg-color: #DDD;\n",
              "  }\n",
              "\n",
              "  [theme=dark] .colab-df-quickchart {\n",
              "      --bg-color: #3B4455;\n",
              "      --fill-color: #D2E3FC;\n",
              "      --hover-bg-color: #434B5C;\n",
              "      --hover-fill-color: #FFFFFF;\n",
              "      --disabled-bg-color: #3B4455;\n",
              "      --disabled-fill-color: #666;\n",
              "  }\n",
              "\n",
              "  .colab-df-quickchart {\n",
              "    background-color: var(--bg-color);\n",
              "    border: none;\n",
              "    border-radius: 50%;\n",
              "    cursor: pointer;\n",
              "    display: none;\n",
              "    fill: var(--fill-color);\n",
              "    height: 32px;\n",
              "    padding: 0;\n",
              "    width: 32px;\n",
              "  }\n",
              "\n",
              "  .colab-df-quickchart:hover {\n",
              "    background-color: var(--hover-bg-color);\n",
              "    box-shadow: 0 1px 2px rgba(60, 64, 67, 0.3), 0 1px 3px 1px rgba(60, 64, 67, 0.15);\n",
              "    fill: var(--button-hover-fill-color);\n",
              "  }\n",
              "\n",
              "  .colab-df-quickchart-complete:disabled,\n",
              "  .colab-df-quickchart-complete:disabled:hover {\n",
              "    background-color: var(--disabled-bg-color);\n",
              "    fill: var(--disabled-fill-color);\n",
              "    box-shadow: none;\n",
              "  }\n",
              "\n",
              "  .colab-df-spinner {\n",
              "    border: 2px solid var(--fill-color);\n",
              "    border-color: transparent;\n",
              "    border-bottom-color: var(--fill-color);\n",
              "    animation:\n",
              "      spin 1s steps(1) infinite;\n",
              "  }\n",
              "\n",
              "  @keyframes spin {\n",
              "    0% {\n",
              "      border-color: transparent;\n",
              "      border-bottom-color: var(--fill-color);\n",
              "      border-left-color: var(--fill-color);\n",
              "    }\n",
              "    20% {\n",
              "      border-color: transparent;\n",
              "      border-left-color: var(--fill-color);\n",
              "      border-top-color: var(--fill-color);\n",
              "    }\n",
              "    30% {\n",
              "      border-color: transparent;\n",
              "      border-left-color: var(--fill-color);\n",
              "      border-top-color: var(--fill-color);\n",
              "      border-right-color: var(--fill-color);\n",
              "    }\n",
              "    40% {\n",
              "      border-color: transparent;\n",
              "      border-right-color: var(--fill-color);\n",
              "      border-top-color: var(--fill-color);\n",
              "    }\n",
              "    60% {\n",
              "      border-color: transparent;\n",
              "      border-right-color: var(--fill-color);\n",
              "    }\n",
              "    80% {\n",
              "      border-color: transparent;\n",
              "      border-right-color: var(--fill-color);\n",
              "      border-bottom-color: var(--fill-color);\n",
              "    }\n",
              "    90% {\n",
              "      border-color: transparent;\n",
              "      border-bottom-color: var(--fill-color);\n",
              "    }\n",
              "  }\n",
              "</style>\n",
              "\n",
              "  <script>\n",
              "    async function quickchart(key) {\n",
              "      const quickchartButtonEl =\n",
              "        document.querySelector('#' + key + ' button');\n",
              "      quickchartButtonEl.disabled = true;  // To prevent multiple clicks.\n",
              "      quickchartButtonEl.classList.add('colab-df-spinner');\n",
              "      try {\n",
              "        const charts = await google.colab.kernel.invokeFunction(\n",
              "            'suggestCharts', [key], {});\n",
              "      } catch (error) {\n",
              "        console.error('Error during call to suggestCharts:', error);\n",
              "      }\n",
              "      quickchartButtonEl.classList.remove('colab-df-spinner');\n",
              "      quickchartButtonEl.classList.add('colab-df-quickchart-complete');\n",
              "    }\n",
              "    (() => {\n",
              "      let quickchartButtonEl =\n",
              "        document.querySelector('#df-913cbdf8-74dd-42dd-a380-4d5fc6158ca9 button');\n",
              "      quickchartButtonEl.style.display =\n",
              "        google.colab.kernel.accessAllowed ? 'block' : 'none';\n",
              "    })();\n",
              "  </script>\n",
              "</div>\n",
              "\n",
              "    </div>\n",
              "  </div>\n"
            ],
            "application/vnd.google.colaboratory.intrinsic+json": {
              "type": "dataframe",
              "summary": "{\n  \"name\": \"df\",\n  \"rows\": 13,\n  \"fields\": [\n    {\n      \"column\": \"id\",\n      \"properties\": {\n        \"dtype\": \"number\",\n        \"std\": 0.32808338209717824,\n        \"min\": -0.30793117045446355,\n        \"max\": 1.0,\n        \"samples\": [\n          0.1353163097613066,\n          -0.30793117045446355,\n          1.0\n        ],\n        \"num_unique_values\": 13,\n        \"semantic_type\": \"\",\n        \"description\": \"\"\n      }\n    },\n    {\n      \"column\": \"host_id\",\n      \"properties\": {\n        \"dtype\": \"number\",\n        \"std\": 0.30935864390626877,\n        \"min\": -0.1303024329766371,\n        \"max\": 1.0,\n        \"samples\": [\n          0.1473393488413071,\n          -0.12800096927843063,\n          0.5588908464976944\n        ],\n        \"num_unique_values\": 13,\n        \"semantic_type\": \"\",\n        \"description\": \"\"\n      }\n    },\n    {\n      \"column\": \"bairro_group\",\n      \"properties\": {\n        \"dtype\": \"number\",\n        \"std\": 0.2917723846272647,\n        \"min\": -0.048204080335251316,\n        \"max\": 1.0,\n        \"samples\": [\n          0.06186893086333066,\n          -0.021021506459575942,\n          0.06102606973639192\n        ],\n        \"num_unique_values\": 13,\n        \"semantic_type\": \"\",\n        \"description\": \"\"\n      }\n    },\n    {\n      \"column\": \"bairro\",\n      \"properties\": {\n        \"dtype\": \"number\",\n        \"std\": 0.2999164647860382,\n        \"min\": -0.17296364920606075,\n        \"max\": 1.0,\n        \"samples\": [\n          -0.03655935678190868,\n          -0.05186426805325724,\n          -0.028458973234028025\n        ],\n        \"num_unique_values\": 13,\n        \"semantic_type\": \"\",\n        \"description\": \"\"\n      }\n    },\n    {\n      \"column\": \"latitude\",\n      \"properties\": {\n        \"dtype\": \"number\",\n        \"std\": 0.2999491543397752,\n        \"min\": -0.04434475565941878,\n        \"max\": 1.0,\n        \"samples\": [\n          0.0035785321905030462,\n          -0.04434475565941878,\n          0.004942447472764355\n        ],\n        \"num_unique_values\": 13,\n        \"semantic_type\": \"\",\n        \"description\": \"\"\n      }\n    },\n    {\n      \"column\": \"longitude\",\n      \"properties\": {\n        \"dtype\": \"number\",\n        \"std\": 0.32469279738482776,\n        \"min\": -0.43803131612957824,\n        \"max\": 1.0,\n        \"samples\": [\n          0.06354783474594004,\n          0.07985055023083108,\n          0.07068150399905045\n        ],\n        \"num_unique_values\": 13,\n        \"semantic_type\": \"\",\n        \"description\": \"\"\n      }\n    },\n    {\n      \"column\": \"room_type\",\n      \"properties\": {\n        \"dtype\": \"number\",\n        \"std\": 0.3640998899065725,\n        \"min\": -0.676054541599195,\n        \"max\": 1.0,\n        \"samples\": [\n          0.17778365079979927,\n          -0.014902487831865737,\n          0.05897184351587573\n        ],\n        \"num_unique_values\": 13,\n        \"semantic_type\": \"\",\n        \"description\": \"\"\n      }\n    },\n    {\n      \"column\": \"price\",\n      \"properties\": {\n        \"dtype\": \"number\",\n        \"std\": 0.3810935848714487,\n        \"min\": -0.676054541599195,\n        \"max\": 1.0,\n        \"samples\": [\n          -0.1061080483950391,\n          -0.055011799608016644,\n          -0.020722703603723948\n        ],\n        \"num_unique_values\": 13,\n        \"semantic_type\": \"\",\n        \"description\": \"\"\n      }\n    },\n    {\n      \"column\": \"minimo_noites\",\n      \"properties\": {\n        \"dtype\": \"number\",\n        \"std\": 0.3177871684623734,\n        \"min\": -0.2888381609028103,\n        \"max\": 1.0,\n        \"samples\": [\n          0.06416261703236747,\n          -0.17490097033030566,\n          -0.05784706953681618\n        ],\n        \"num_unique_values\": 13,\n        \"semantic_type\": \"\",\n        \"description\": \"\"\n      }\n    },\n    {\n      \"column\": \"numero_de_reviews\",\n      \"properties\": {\n        \"dtype\": \"number\",\n        \"std\": 0.36380120029423946,\n        \"min\": -0.30793117045446355,\n        \"max\": 1.0,\n        \"samples\": [\n          0.0560483416468101,\n          1.0,\n          -0.30793117045446355\n        ],\n        \"num_unique_values\": 13,\n        \"semantic_type\": \"\",\n        \"description\": \"\"\n      }\n    },\n    {\n      \"column\": \"reviews_por_mes\",\n      \"properties\": {\n        \"dtype\": \"number\",\n        \"std\": 0.3452565554324529,\n        \"min\": -0.2888381609028103,\n        \"max\": 1.0,\n        \"samples\": [\n          0.14652890768199262,\n          0.7062113737564714,\n          0.3604229493485766\n        ],\n        \"num_unique_values\": 13,\n        \"semantic_type\": \"\",\n        \"description\": \"\"\n      }\n    },\n    {\n      \"column\": \"calculado_host_listings_count\",\n      \"properties\": {\n        \"dtype\": \"number\",\n        \"std\": 0.2799374956936442,\n        \"min\": -0.1061080483950391,\n        \"max\": 1.0,\n        \"samples\": [\n          1.0,\n          0.0560483416468101,\n          0.1353163097613066\n        ],\n        \"num_unique_values\": 13,\n        \"semantic_type\": \"\",\n        \"description\": \"\"\n      }\n    },\n    {\n      \"column\": \"disponibilidade_365\",\n      \"properties\": {\n        \"dtype\": \"number\",\n        \"std\": 0.2768057218035924,\n        \"min\": -0.03868651387282572,\n        \"max\": 1.0,\n        \"samples\": [\n          0.40656850415245394,\n          0.23665917204300596,\n          0.16578582539038283\n        ],\n        \"num_unique_values\": 13,\n        \"semantic_type\": \"\",\n        \"description\": \"\"\n      }\n    }\n  ]\n}"
            }
          },
          "metadata": {},
          "execution_count": 26
        }
      ]
    },
    {
      "cell_type": "markdown",
      "source": [
        "Analisando a correlação com outro método também se destaca a correlação de preço com o número minimo de noites, o bairro group, bairro e o tipo de quarto"
      ],
      "metadata": {
        "id": "qDjo7vK8rcMA"
      }
    },
    {
      "cell_type": "code",
      "source": [
        "def get_original_categorical_value(df, encoder, column):\n",
        "  # Recuperar os valores originais\n",
        "  original_values = encoder.inverse_transform(df[column])\n",
        "\n",
        "  # Obter a correspondência entre os valores numéricos e os valores originais\n",
        "  correspondency = dict(zip(df[column], original_values))\n",
        "\n",
        "  # Exibir a correspondência\n",
        "  print(correspondency)\n",
        "  return correspondency"
      ],
      "metadata": {
        "id": "EIgjd_TruHti"
      },
      "execution_count": null,
      "outputs": []
    },
    {
      "cell_type": "code",
      "source": [
        "dict_original_bairros_values = get_original_categorical_value(df,\n",
        "                                                              label_encoder_bairro_group,\n",
        "                                                              \"bairro_group\")\n",
        "dict_original_room_type_values = get_original_categorical_value(df,\n",
        "                                                         label_encoder_room_type,\n",
        "                                                         \"room_type\")\n"
      ],
      "metadata": {
        "colab": {
          "base_uri": "https://localhost:8080/"
        },
        "id": "COSnP8Eix78Q",
        "outputId": "158b36c8-9e0f-4803-f81d-aa4b93285f77"
      },
      "execution_count": null,
      "outputs": [
        {
          "output_type": "stream",
          "name": "stdout",
          "text": [
            "{2: 'Manhattan', 1: 'Brooklyn', 3: 'Queens', 4: 'Staten Island', 0: 'Bronx'}\n",
            "{0: 'Entire home/apt', 1: 'Private room', 2: 'Shared room'}\n"
          ]
        }
      ]
    },
    {
      "cell_type": "code",
      "source": [
        "bairro_group_mean_price_dict = {}\n",
        "for bairro in bairro_group_array:\n",
        "  mean_price = df.query(f\"bairro_group == {bairro}\").price.mean()\n",
        "  bairro_group_name = dict_original_bairros_values[bairro]\n",
        "  bairro_group_mean_price_dict[bairro_group_name] = mean_price\n",
        "  print(f\"mean price in {bairro_group_name}:\", mean_price)"
      ],
      "metadata": {
        "colab": {
          "base_uri": "https://localhost:8080/"
        },
        "id": "25_E3iV7sdAa",
        "outputId": "7a19ca2e-5742-43cc-884d-e884177dfdcd"
      },
      "execution_count": null,
      "outputs": [
        {
          "output_type": "stream",
          "name": "stdout",
          "text": [
            "mean price in Manhattan: 196.8758136743456\n",
            "mean price in Brooklyn: 124.38198278863851\n",
            "mean price in Queens: 99.51764913519237\n",
            "mean price in Staten Island: 114.81233243967829\n",
            "mean price in Bronx: 87.4967919340055\n"
          ]
        }
      ]
    },
    {
      "cell_type": "code",
      "source": [
        "plt.hist(bairro_group_mean_price_dict.values(), bins=10, edgecolor='black')\n",
        "\n",
        "# Adicionando rótulos\n",
        "plt.title('Histograma')\n",
        "plt.xlabel(bairro_group_mean_price_dict.keys())\n",
        "plt.ylabel('Valores')\n",
        "\n",
        "# Mostrando o histograma\n",
        "plt.show()"
      ],
      "metadata": {
        "colab": {
          "base_uri": "https://localhost:8080/",
          "height": 472
        },
        "id": "gLISmhxL251v",
        "outputId": "b1e80ce3-abdf-48f8-94f4-2fec038f20f7"
      },
      "execution_count": null,
      "outputs": [
        {
          "output_type": "display_data",
          "data": {
            "text/plain": [
              "<Figure size 640x480 with 1 Axes>"
            ],
            "image/png": "[encoded data removed]"
          },
          "metadata": {}
        }
      ]
    },
    {
      "cell_type": "code",
      "source": [],
      "metadata": {
        "id": "V03Jrlz55l54"
      },
      "execution_count": null,
      "outputs": []
    },
    {
      "cell_type": "code",
      "source": [
        "for room_type in room_type_in_df:\n",
        "  mean_price = df.query(f\"room_type == {room_type}\").price.mean()\n",
        "  print(f\"mean price in {dict_original_room_type_values[room_type]}:\", mean_price)"
      ],
      "metadata": {
        "colab": {
          "base_uri": "https://localhost:8080/"
        },
        "id": "YCrvdeNY1Zoo",
        "outputId": "20c0de9d-8b68-4a4c-9f3e-4acdd071af97"
      },
      "execution_count": null,
      "outputs": [
        {
          "output_type": "stream",
          "name": "stdout",
          "text": [
            "mean price in Entire home/apt: 211.79424613325986\n",
            "mean price in Private room: 89.778320268757\n",
            "mean price in Shared room: 70.12758620689655\n"
          ]
        }
      ]
    },
    {
      "cell_type": "markdown",
      "source": [
        "Verificar o tipo predominante de quarto de cada bairro"
      ],
      "metadata": {
        "id": "eYmqaSHF2Yat"
      }
    },
    {
      "cell_type": "code",
      "source": [
        "def count_room_types_by_bairro(df, bairro):\n",
        "  df_only_one_bairro = df.query(f\"bairro_group == {bairro}\")\n",
        "  df_only_one_bairro[\"room_type\"].value_counts()\n",
        "  # print(df_only_one_bairro[\"room_type\"].value_counts())\n",
        "  return df_only_one_bairro[\"room_type\"].value_counts()"
      ],
      "metadata": {
        "id": "nSpqrTqk1ltR"
      },
      "execution_count": null,
      "outputs": []
    },
    {
      "cell_type": "code",
      "source": [
        "for bairro in bairro_group_array:\n",
        "  room_types_in_bairro = count_room_types_by_bairro(df, bairro)\n",
        "  print(dict_original_bairros_values[bairro])\n",
        "  new_dict = {}\n",
        "  for key in room_types_in_bairro.keys():\n",
        "    new_dict[dict_original_room_type_values[key]] = room_types_in_bairro[key]\n",
        "    print(f\"{dict_original_room_type_values[key]}: {room_types_in_bairro[key]}\")\n",
        "  print()\n",
        "\n",
        "  plt.figure(figsize=(3, 3))\n",
        "\n",
        "  plt.pie(new_dict.values(),\n",
        "          labels=new_dict.keys(),\n",
        "          autopct='%1.1f%%', startangle=140)\n",
        "\n",
        "  # Adicionar um título\n",
        "  plt.title(f'Room type in {dict_original_bairros_values[bairro]}')\n",
        "\n",
        "  # Exibir o gráfico\n",
        "  plt.show()"
      ],
      "metadata": {
        "colab": {
          "base_uri": "https://localhost:8080/",
          "height": 1000
        },
        "id": "fjFGdTRP3Lt3",
        "outputId": "f81d79a0-af24-4661-9458-c6b13463cedd"
      },
      "execution_count": null,
      "outputs": [
        {
          "output_type": "stream",
          "name": "stdout",
          "text": [
            "Manhattan\n",
            "Entire home/apt: 13199\n",
            "Private room: 7982\n",
            "Shared room: 480\n",
            "\n"
          ]
        },
        {
          "output_type": "display_data",
          "data": {
            "text/plain": [
              "<Figure size 300x300 with 1 Axes>"
            ],
            "image/png": "[encoded data removed]"
          },
          "metadata": {}
        },
        {
          "output_type": "stream",
          "name": "stdout",
          "text": [
            "Brooklyn\n",
            "Private room: 10131\n",
            "Entire home/apt: 9559\n",
            "Shared room: 413\n",
            "\n"
          ]
        },
        {
          "output_type": "display_data",
          "data": {
            "text/plain": [
              "<Figure size 300x300 with 1 Axes>"
            ],
            "image/png": "[encoded data removed]"
          },
          "metadata": {}
        },
        {
          "output_type": "stream",
          "name": "stdout",
          "text": [
            "Queens\n",
            "Private room: 3372\n",
            "Entire home/apt: 2096\n",
            "Shared room: 198\n",
            "\n"
          ]
        },
        {
          "output_type": "display_data",
          "data": {
            "text/plain": [
              "<Figure size 300x300 with 1 Axes>"
            ],
            "image/png": "[encoded data removed]"
          },
          "metadata": {}
        },
        {
          "output_type": "stream",
          "name": "stdout",
          "text": [
            "Staten Island\n",
            "Private room: 188\n",
            "Entire home/apt: 176\n",
            "Shared room: 9\n",
            "\n"
          ]
        },
        {
          "output_type": "display_data",
          "data": {
            "text/plain": [
              "<Figure size 300x300 with 1 Axes>"
            ],
            "image/png": "[encoded data removed]"
          },
          "metadata": {}
        },
        {
          "output_type": "stream",
          "name": "stdout",
          "text": [
            "Bronx\n",
            "Private room: 652\n",
            "Entire home/apt: 379\n",
            "Shared room: 60\n",
            "\n"
          ]
        },
        {
          "output_type": "display_data",
          "data": {
            "text/plain": [
              "<Figure size 300x300 with 1 Axes>"
            ],
            "image/png": "[encoded data removed]"
          },
          "metadata": {}
        }
      ]
    },
    {
      "cell_type": "markdown",
      "source": [
        "Pegar o bairro mais caro e o mais barato de cada bairro"
      ],
      "metadata": {
        "id": "R-dBgnjXCFAZ"
      }
    },
    {
      "cell_type": "markdown",
      "source": [
        "Descoberta: Grupos de bairros que tem a maioria dos tipos de quarto como casa ou apartamento são os com aluguel com maior preço"
      ],
      "metadata": {
        "id": "NfXxOLun1m2T"
      }
    },
    {
      "cell_type": "code",
      "source": [],
      "metadata": {
        "id": "niulWn0rCNE0"
      },
      "execution_count": null,
      "outputs": []
    }
  ]
}